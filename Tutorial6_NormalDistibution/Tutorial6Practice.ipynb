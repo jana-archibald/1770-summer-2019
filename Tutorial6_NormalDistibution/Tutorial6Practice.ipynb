{
 "cells": [
  {
   "cell_type": "markdown",
   "metadata": {},
   "source": [
    "# The Normal Distribution\n",
    "\n",
    "## dnorm(x,m,s)\n",
    "\n",
    "m=mean, s=standard deviation"
   ]
  },
  {
   "cell_type": "code",
   "execution_count": null,
   "metadata": {},
   "outputs": [],
   "source": [
    "values<-seq(-4,4,length=101)\n",
    "\n",
    "plot(dnorm(values),type=\"l\")"
   ]
  },
  {
   "cell_type": "markdown",
   "metadata": {},
   "source": [
    "### A function for normal plots.\n",
    "\n",
    "To make it easier to produce a quick plot of the normal distribution I have written a function which plots a normal curve, and will shade a region between two given x values.  Please evaluate the following two blocks of code."
   ]
  },
  {
   "cell_type": "code",
   "execution_count": null,
   "metadata": {},
   "outputs": [],
   "source": [
    "normalplot<-function(m,sd,region=0){\n",
    "  x<-seq(m-(3.5)*sd,m+(3.5)*sd,length=1000)\n",
    "  y<-dnorm(x,m,sd)\n",
    "  plot(x,y,type=\"l\",xlab=\"\",ylab=\"\")\n",
    "  z<-x[x>region[1]]\n",
    "  z<- z[z<region[2]]\n",
    "  polygon(c(region[1],z,region[2]),\n",
    "          c(0,dnorm(z,m,sd),0),col=\"gray\")}"
   ]
  },
  {
   "cell_type": "code",
   "execution_count": null,
   "metadata": {},
   "outputs": [],
   "source": [
    "normalplot(0,1)"
   ]
  },
  {
   "cell_type": "code",
   "execution_count": null,
   "metadata": {},
   "outputs": [],
   "source": [
    "normalplot(0,1,c(-1,2))"
   ]
  },
  {
   "cell_type": "code",
   "execution_count": null,
   "metadata": {},
   "outputs": [],
   "source": [
    "normalplot(0,1,c(2,4))"
   ]
  },
  {
   "cell_type": "markdown",
   "metadata": {
    "collapsed": true
   },
   "source": [
    "We can calculate shaded area under the curve by using some built in r functions."
   ]
  },
  {
   "cell_type": "markdown",
   "metadata": {
    "collapsed": true
   },
   "source": [
    "## pnorm(x,mean,sd)\n",
    "\n",
    "This finds the area under the left tail.\n",
    "\n"
   ]
  },
  {
   "cell_type": "code",
   "execution_count": null,
   "metadata": {},
   "outputs": [],
   "source": [
    "pnorm(-2,0,1)"
   ]
  },
  {
   "cell_type": "code",
   "execution_count": null,
   "metadata": {},
   "outputs": [],
   "source": [
    "normalplot(0,1,c(-Inf,-2))"
   ]
  },
  {
   "cell_type": "markdown",
   "metadata": {},
   "source": [
    "You can use it to compute the area under any region you are interested in."
   ]
  },
  {
   "cell_type": "code",
   "execution_count": null,
   "metadata": {},
   "outputs": [],
   "source": [
    "pnorm(1,0,1)-pnorm(-2,0,1)"
   ]
  },
  {
   "cell_type": "code",
   "execution_count": null,
   "metadata": {},
   "outputs": [],
   "source": [
    "normalplot(0,1,c(-2,1))"
   ]
  },
  {
   "cell_type": "markdown",
   "metadata": {},
   "source": [
    "We can also compute percentiles...\n",
    "\n",
    "# qnorm(area,mean,sd)\n",
    "\n",
    "This computes x value you need to get a particular area under the curve to the left.\n"
   ]
  },
  {
   "cell_type": "code",
   "execution_count": null,
   "metadata": {},
   "outputs": [],
   "source": [
    "qnorm(0.95,0,1)"
   ]
  },
  {
   "cell_type": "code",
   "execution_count": null,
   "metadata": {},
   "outputs": [],
   "source": [
    "normalplot(0,1,c(-Inf,1.64485362695147))"
   ]
  },
  {
   "cell_type": "markdown",
   "metadata": {},
   "source": [
    "The grey area is 0.95."
   ]
  }
 ],
 "metadata": {
  "kernelspec": {
   "display_name": "R",
   "language": "R",
   "name": "ir"
  },
  "language_info": {
   "codemirror_mode": "r",
   "file_extension": ".r",
   "mimetype": "text/x-r-source",
   "name": "R",
   "pygments_lexer": "r",
   "version": "3.5.1"
  }
 },
 "nbformat": 4,
 "nbformat_minor": 1
}
