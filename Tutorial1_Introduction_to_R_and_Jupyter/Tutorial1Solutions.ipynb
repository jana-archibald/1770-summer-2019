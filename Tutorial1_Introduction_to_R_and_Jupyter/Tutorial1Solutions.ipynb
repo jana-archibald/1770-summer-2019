{
 "cells": [
  {
   "cell_type": "markdown",
   "metadata": {},
   "source": [
    "# Tutorial Questions\n",
    "\n",
    "## You get to try out analysing some more modern data.\n",
    "\n",
    "The first thing you need to do is run this code to load the new data set.\n",
    "\n",
    "\n",
    "\n",
    "`source(\"http://www.openintro.org/stat/data/present.R\")`\n",
    "\n",
    "\n",
    "\n",
    "\n",
    "The data are stored in a data frame called  `present` ."
   ]
  },
  {
   "cell_type": "code",
   "execution_count": 1,
   "metadata": {
    "collapsed": true
   },
   "outputs": [],
   "source": [
    "source(\"http://www.openintro.org/stat/data/present.R\")"
   ]
  },
  {
   "cell_type": "markdown",
   "metadata": {},
   "source": [
    "1. What years are included in this data set? \n",
    "2. What are the dimensions of the data frame and what are the variable or column names?\n",
    "3. How do these counts compare to Arbuthnot’s? Are they on a similar scale?\n",
    "\n",
    "\n",
    "\n",
    "\n",
    "\n"
   ]
  },
  {
   "cell_type": "code",
   "execution_count": 2,
   "metadata": {},
   "outputs": [
    {
     "data": {
      "text/html": [
       "<table>\n",
       "<thead><tr><th></th><th scope=col>year</th><th scope=col>boys</th><th scope=col>girls</th></tr></thead>\n",
       "<tbody>\n",
       "\t<tr><th scope=row>1</th><td>1940   </td><td>1211684</td><td>1148715</td></tr>\n",
       "\t<tr><th scope=row>2</th><td>1941   </td><td>1289734</td><td>1223693</td></tr>\n",
       "\t<tr><th scope=row>3</th><td>1942   </td><td>1444365</td><td>1364631</td></tr>\n",
       "\t<tr><th scope=row>4</th><td>1943   </td><td>1508959</td><td>1427901</td></tr>\n",
       "\t<tr><th scope=row>5</th><td>1944   </td><td>1435301</td><td>1359499</td></tr>\n",
       "\t<tr><th scope=row>6</th><td>1945   </td><td>1404587</td><td>1330869</td></tr>\n",
       "\t<tr><th scope=row>7</th><td>1946   </td><td>1691220</td><td>1597452</td></tr>\n",
       "\t<tr><th scope=row>8</th><td>1947   </td><td>1899876</td><td>1800064</td></tr>\n",
       "\t<tr><th scope=row>9</th><td>1948   </td><td>1813852</td><td>1721216</td></tr>\n",
       "\t<tr><th scope=row>10</th><td>1949   </td><td>1826352</td><td>1733177</td></tr>\n",
       "\t<tr><th scope=row>11</th><td>1950   </td><td>1823555</td><td>1730594</td></tr>\n",
       "\t<tr><th scope=row>12</th><td>1951   </td><td>1923020</td><td>1827830</td></tr>\n",
       "\t<tr><th scope=row>13</th><td>1952   </td><td>1971262</td><td>1875724</td></tr>\n",
       "\t<tr><th scope=row>14</th><td>1953   </td><td>2001798</td><td>1900322</td></tr>\n",
       "\t<tr><th scope=row>15</th><td>1954   </td><td>2059068</td><td>1958294</td></tr>\n",
       "\t<tr><th scope=row>16</th><td>1955   </td><td>2073719</td><td>1973576</td></tr>\n",
       "\t<tr><th scope=row>17</th><td>1956   </td><td>2133588</td><td>2029502</td></tr>\n",
       "\t<tr><th scope=row>18</th><td>1957   </td><td>2179960</td><td>2074824</td></tr>\n",
       "\t<tr><th scope=row>19</th><td>1958   </td><td>2152546</td><td>2051266</td></tr>\n",
       "\t<tr><th scope=row>20</th><td>1959   </td><td>2173638</td><td>2071158</td></tr>\n",
       "\t<tr><th scope=row>21</th><td>1960   </td><td>2179708</td><td>2078142</td></tr>\n",
       "\t<tr><th scope=row>22</th><td>1961   </td><td>2186274</td><td>2082052</td></tr>\n",
       "\t<tr><th scope=row>23</th><td>1962   </td><td>2132466</td><td>2034896</td></tr>\n",
       "\t<tr><th scope=row>24</th><td>1963   </td><td>2101632</td><td>1996388</td></tr>\n",
       "\t<tr><th scope=row>25</th><td>1964   </td><td>2060162</td><td>1967328</td></tr>\n",
       "\t<tr><th scope=row>26</th><td>1965   </td><td>1927054</td><td>1833304</td></tr>\n",
       "\t<tr><th scope=row>27</th><td>1966   </td><td>1845862</td><td>1760412</td></tr>\n",
       "\t<tr><th scope=row>28</th><td>1967   </td><td>1803388</td><td>1717571</td></tr>\n",
       "\t<tr><th scope=row>29</th><td>1968   </td><td>1796326</td><td>1705238</td></tr>\n",
       "\t<tr><th scope=row>30</th><td>1969   </td><td>1846572</td><td>1753634</td></tr>\n",
       "\t<tr><th scope=row>⋮</th><td>⋮</td><td>⋮</td><td>⋮</td></tr>\n",
       "\t<tr><th scope=row>34</th><td>1973   </td><td>1608326</td><td>1528639</td></tr>\n",
       "\t<tr><th scope=row>35</th><td>1974   </td><td>1622114</td><td>1537844</td></tr>\n",
       "\t<tr><th scope=row>36</th><td>1975   </td><td>1613135</td><td>1531063</td></tr>\n",
       "\t<tr><th scope=row>37</th><td>1976   </td><td>1624436</td><td>1543352</td></tr>\n",
       "\t<tr><th scope=row>38</th><td>1977   </td><td>1705916</td><td>1620716</td></tr>\n",
       "\t<tr><th scope=row>39</th><td>1978   </td><td>1709394</td><td>1623885</td></tr>\n",
       "\t<tr><th scope=row>40</th><td>1979   </td><td>1791267</td><td>1703131</td></tr>\n",
       "\t<tr><th scope=row>41</th><td>1980   </td><td>1852616</td><td>1759642</td></tr>\n",
       "\t<tr><th scope=row>42</th><td>1981   </td><td>1860272</td><td>1768966</td></tr>\n",
       "\t<tr><th scope=row>43</th><td>1982   </td><td>1885676</td><td>1794861</td></tr>\n",
       "\t<tr><th scope=row>44</th><td>1983   </td><td>1865553</td><td>1773380</td></tr>\n",
       "\t<tr><th scope=row>45</th><td>1984   </td><td>1879490</td><td>1789651</td></tr>\n",
       "\t<tr><th scope=row>46</th><td>1985   </td><td>1927983</td><td>1832578</td></tr>\n",
       "\t<tr><th scope=row>47</th><td>1986   </td><td>1924868</td><td>1831679</td></tr>\n",
       "\t<tr><th scope=row>48</th><td>1987   </td><td>1951153</td><td>1858241</td></tr>\n",
       "\t<tr><th scope=row>49</th><td>1988   </td><td>2002424</td><td>1907086</td></tr>\n",
       "\t<tr><th scope=row>50</th><td>1989   </td><td>2069490</td><td>1971468</td></tr>\n",
       "\t<tr><th scope=row>51</th><td>1990   </td><td>2129495</td><td>2028717</td></tr>\n",
       "\t<tr><th scope=row>52</th><td>1991   </td><td>2101518</td><td>2009389</td></tr>\n",
       "\t<tr><th scope=row>53</th><td>1992   </td><td>2082097</td><td>1982917</td></tr>\n",
       "\t<tr><th scope=row>54</th><td>1993   </td><td>2048861</td><td>1951379</td></tr>\n",
       "\t<tr><th scope=row>55</th><td>1994   </td><td>2022589</td><td>1930178</td></tr>\n",
       "\t<tr><th scope=row>56</th><td>1995   </td><td>1996355</td><td>1903234</td></tr>\n",
       "\t<tr><th scope=row>57</th><td>1996   </td><td>1990480</td><td>1901014</td></tr>\n",
       "\t<tr><th scope=row>58</th><td>1997   </td><td>1985596</td><td>1895298</td></tr>\n",
       "\t<tr><th scope=row>59</th><td>1998   </td><td>2016205</td><td>1925348</td></tr>\n",
       "\t<tr><th scope=row>60</th><td>1999   </td><td>2026854</td><td>1932563</td></tr>\n",
       "\t<tr><th scope=row>61</th><td>2000   </td><td>2076969</td><td>1981845</td></tr>\n",
       "\t<tr><th scope=row>62</th><td>2001   </td><td>2057922</td><td>1968011</td></tr>\n",
       "\t<tr><th scope=row>63</th><td>2002   </td><td>2057979</td><td>1963747</td></tr>\n",
       "</tbody>\n",
       "</table>\n"
      ],
      "text/latex": [
       "\\begin{tabular}{r|lll}\n",
       "  & year & boys & girls\\\\\n",
       "\\hline\n",
       "\t1 & 1940    & 1211684 & 1148715\\\\\n",
       "\t2 & 1941    & 1289734 & 1223693\\\\\n",
       "\t3 & 1942    & 1444365 & 1364631\\\\\n",
       "\t4 & 1943    & 1508959 & 1427901\\\\\n",
       "\t5 & 1944    & 1435301 & 1359499\\\\\n",
       "\t6 & 1945    & 1404587 & 1330869\\\\\n",
       "\t7 & 1946    & 1691220 & 1597452\\\\\n",
       "\t8 & 1947    & 1899876 & 1800064\\\\\n",
       "\t9 & 1948    & 1813852 & 1721216\\\\\n",
       "\t10 & 1949    & 1826352 & 1733177\\\\\n",
       "\t11 & 1950    & 1823555 & 1730594\\\\\n",
       "\t12 & 1951    & 1923020 & 1827830\\\\\n",
       "\t13 & 1952    & 1971262 & 1875724\\\\\n",
       "\t14 & 1953    & 2001798 & 1900322\\\\\n",
       "\t15 & 1954    & 2059068 & 1958294\\\\\n",
       "\t16 & 1955    & 2073719 & 1973576\\\\\n",
       "\t17 & 1956    & 2133588 & 2029502\\\\\n",
       "\t18 & 1957    & 2179960 & 2074824\\\\\n",
       "\t19 & 1958    & 2152546 & 2051266\\\\\n",
       "\t20 & 1959    & 2173638 & 2071158\\\\\n",
       "\t21 & 1960    & 2179708 & 2078142\\\\\n",
       "\t22 & 1961    & 2186274 & 2082052\\\\\n",
       "\t23 & 1962    & 2132466 & 2034896\\\\\n",
       "\t24 & 1963    & 2101632 & 1996388\\\\\n",
       "\t25 & 1964    & 2060162 & 1967328\\\\\n",
       "\t26 & 1965    & 1927054 & 1833304\\\\\n",
       "\t27 & 1966    & 1845862 & 1760412\\\\\n",
       "\t28 & 1967    & 1803388 & 1717571\\\\\n",
       "\t29 & 1968    & 1796326 & 1705238\\\\\n",
       "\t30 & 1969    & 1846572 & 1753634\\\\\n",
       "\t⋮ & ⋮ & ⋮ & ⋮\\\\\n",
       "\t34 & 1973    & 1608326 & 1528639\\\\\n",
       "\t35 & 1974    & 1622114 & 1537844\\\\\n",
       "\t36 & 1975    & 1613135 & 1531063\\\\\n",
       "\t37 & 1976    & 1624436 & 1543352\\\\\n",
       "\t38 & 1977    & 1705916 & 1620716\\\\\n",
       "\t39 & 1978    & 1709394 & 1623885\\\\\n",
       "\t40 & 1979    & 1791267 & 1703131\\\\\n",
       "\t41 & 1980    & 1852616 & 1759642\\\\\n",
       "\t42 & 1981    & 1860272 & 1768966\\\\\n",
       "\t43 & 1982    & 1885676 & 1794861\\\\\n",
       "\t44 & 1983    & 1865553 & 1773380\\\\\n",
       "\t45 & 1984    & 1879490 & 1789651\\\\\n",
       "\t46 & 1985    & 1927983 & 1832578\\\\\n",
       "\t47 & 1986    & 1924868 & 1831679\\\\\n",
       "\t48 & 1987    & 1951153 & 1858241\\\\\n",
       "\t49 & 1988    & 2002424 & 1907086\\\\\n",
       "\t50 & 1989    & 2069490 & 1971468\\\\\n",
       "\t51 & 1990    & 2129495 & 2028717\\\\\n",
       "\t52 & 1991    & 2101518 & 2009389\\\\\n",
       "\t53 & 1992    & 2082097 & 1982917\\\\\n",
       "\t54 & 1993    & 2048861 & 1951379\\\\\n",
       "\t55 & 1994    & 2022589 & 1930178\\\\\n",
       "\t56 & 1995    & 1996355 & 1903234\\\\\n",
       "\t57 & 1996    & 1990480 & 1901014\\\\\n",
       "\t58 & 1997    & 1985596 & 1895298\\\\\n",
       "\t59 & 1998    & 2016205 & 1925348\\\\\n",
       "\t60 & 1999    & 2026854 & 1932563\\\\\n",
       "\t61 & 2000    & 2076969 & 1981845\\\\\n",
       "\t62 & 2001    & 2057922 & 1968011\\\\\n",
       "\t63 & 2002    & 2057979 & 1963747\\\\\n",
       "\\end{tabular}\n"
      ],
      "text/plain": [
       "   year    boys   girls\n",
       "1  1940 1211684 1148715\n",
       "2  1941 1289734 1223693\n",
       "3  1942 1444365 1364631\n",
       "4  1943 1508959 1427901\n",
       "5  1944 1435301 1359499\n",
       "6  1945 1404587 1330869\n",
       "7  1946 1691220 1597452\n",
       "8  1947 1899876 1800064\n",
       "9  1948 1813852 1721216\n",
       "10 1949 1826352 1733177\n",
       "11 1950 1823555 1730594\n",
       "12 1951 1923020 1827830\n",
       "13 1952 1971262 1875724\n",
       "14 1953 2001798 1900322\n",
       "15 1954 2059068 1958294\n",
       "16 1955 2073719 1973576\n",
       "17 1956 2133588 2029502\n",
       "18 1957 2179960 2074824\n",
       "19 1958 2152546 2051266\n",
       "20 1959 2173638 2071158\n",
       "21 1960 2179708 2078142\n",
       "22 1961 2186274 2082052\n",
       "23 1962 2132466 2034896\n",
       "24 1963 2101632 1996388\n",
       "25 1964 2060162 1967328\n",
       "26 1965 1927054 1833304\n",
       "27 1966 1845862 1760412\n",
       "28 1967 1803388 1717571\n",
       "29 1968 1796326 1705238\n",
       "30 1969 1846572 1753634\n",
       "⋮     ⋮       ⋮       ⋮\n",
       "34 1973 1608326 1528639\n",
       "35 1974 1622114 1537844\n",
       "36 1975 1613135 1531063\n",
       "37 1976 1624436 1543352\n",
       "38 1977 1705916 1620716\n",
       "39 1978 1709394 1623885\n",
       "40 1979 1791267 1703131\n",
       "41 1980 1852616 1759642\n",
       "42 1981 1860272 1768966\n",
       "43 1982 1885676 1794861\n",
       "44 1983 1865553 1773380\n",
       "45 1984 1879490 1789651\n",
       "46 1985 1927983 1832578\n",
       "47 1986 1924868 1831679\n",
       "48 1987 1951153 1858241\n",
       "49 1988 2002424 1907086\n",
       "50 1989 2069490 1971468\n",
       "51 1990 2129495 2028717\n",
       "52 1991 2101518 2009389\n",
       "53 1992 2082097 1982917\n",
       "54 1993 2048861 1951379\n",
       "55 1994 2022589 1930178\n",
       "56 1995 1996355 1903234\n",
       "57 1996 1990480 1901014\n",
       "58 1997 1985596 1895298\n",
       "59 1998 2016205 1925348\n",
       "60 1999 2026854 1932563\n",
       "61 2000 2076969 1981845\n",
       "62 2001 2057922 1968011\n",
       "63 2002 2057979 1963747"
      ]
     },
     "metadata": {},
     "output_type": "display_data"
    }
   ],
   "source": [
    "present"
   ]
  },
  {
   "cell_type": "code",
   "execution_count": 3,
   "metadata": {},
   "outputs": [
    {
     "data": {
      "text/plain": [
       "      year           boys             girls        \n",
       " Min.   :1940   Min.   :1211684   Min.   :1148715  \n",
       " 1st Qu.:1956   1st Qu.:1799857   1st Qu.:1711404  \n",
       " Median :1971   Median :1924868   Median :1831679  \n",
       " Mean   :1971   Mean   :1885600   Mean   :1793915  \n",
       " 3rd Qu.:1986   3rd Qu.:2058524   3rd Qu.:1965538  \n",
       " Max.   :2002   Max.   :2186274   Max.   :2082052  "
      ]
     },
     "metadata": {},
     "output_type": "display_data"
    }
   ],
   "source": [
    "summary(present)"
   ]
  },
  {
   "cell_type": "code",
   "execution_count": null,
   "metadata": {
    "collapsed": true
   },
   "outputs": [],
   "source": []
  },
  {
   "cell_type": "code",
   "execution_count": null,
   "metadata": {},
   "outputs": [],
   "source": []
  },
  {
   "cell_type": "markdown",
   "metadata": {},
   "source": [
    "### You can add your answers for question 1, 2, 3 here\n",
    "\n",
    "\n",
    "\n",
    "1) What years are included in this data set? \n",
    "\n",
    "**  The data is from 1940 till 2002**\n",
    "\n",
    "\n",
    "2) What are the dimensions of the data frame and what are the variable or column names? \n",
    "\n",
    "**There are 3 columns and 63 rows.  \n",
    "The columns are year, boys, and girls**\n",
    "\n",
    "3) How do these counts compare to Arbuthnot’s? Are they on a similar scale? \n",
    "\n",
    "**The numbers are much larger than Arthubnot was working with (by a factor of about 500).  Arthubnots counts were all between 2 and 9 thousand.  These counts are all between 1 and 2.1 million.**\n",
    "\n",
    "\n",
    "\n",
    "\n",
    "---\n"
   ]
  },
  {
   "cell_type": "markdown",
   "metadata": {},
   "source": [
    "4) Make a plot that displays the boy-to-girl ratio for every year in the data set. \n",
    "\n",
    "** I would accept any plot that allows you to compare the amount of boys born to the amount of girls born. \n",
    "I have included a couple options below.**\n",
    "\n",
    "5) What do you see?    \n",
    " Does Arbuthnot’s observation about boys being born in greater proportion than girls hold up in the U.S.?  \n",
    " "
   ]
  },
  {
   "cell_type": "code",
   "execution_count": null,
   "metadata": {},
   "outputs": [],
   "source": []
  },
  {
   "cell_type": "code",
   "execution_count": null,
   "metadata": {
    "collapsed": true
   },
   "outputs": [],
   "source": []
  },
  {
   "cell_type": "markdown",
   "metadata": {},
   "source": [
    "### Answers for 4 and 5\n",
    "\n",
    "4) Make a plot that displays the boy-to-girl ratio for every year in the data set. \n",
    "\n",
    "** I would accept any plot that allows you to compare the amount of boys born to the amount of girls born. \n",
    "I have included a couple options below.**\n",
    "\n",
    "5) What do you see?    \n",
    " Does Arbuthnot’s observation about boys being born in greater proportion than girls hold up in the U.S.?  \n",
    "\n",
    "** There are more boys than girls born in evey year.  This matched what Arbuthnot found.**"
   ]
  },
  {
   "cell_type": "markdown",
   "metadata": {},
   "source": [
    "6) In what year did we see the most total number of births in the U.S.  (An estimate is fine, just show me how you found it.)?  \n",
    "\n",
    "** I expected that most students would solve this by first plotting the total births by year, then identifing the year with the most births.  I have included another option using an r command to find the maximum for those who are interested.**"
   ]
  },
  {
   "cell_type": "code",
   "execution_count": 8,
   "metadata": {},
   "outputs": [
    {
     "data": {
      "image/png": "[encoded data removed]",
      "text/plain": [
       "Plot with title “US Birth Data”"
      ]
     },
     "metadata": {},
     "output_type": "display_data"
    }
   ],
   "source": [
    "plot(x=present$year, y=present$boys+present$girls,xlab=\"Year\",ylab=\"Total Number of Births\",main=\"US Birth Data\")\n",
    "\n"
   ]
  },
  {
   "cell_type": "markdown",
   "metadata": {},
   "source": [
    "## Answer for 6 \n",
    "\n",
    "**Looking at the plot I can see that most births occured in approximately 1961.  **\n",
    "\n",
    "If you want a way to get R to confirm that value, I could use the following two lines of code.  The first identifies the 22nd row as the row with the most births, the second extracts the 22 row from the data table."
   ]
  },
  {
   "cell_type": "code",
   "execution_count": 6,
   "metadata": {},
   "outputs": [
    {
     "data": {
      "text/html": [
       "22"
      ],
      "text/latex": [
       "22"
      ],
      "text/markdown": [
       "22"
      ],
      "text/plain": [
       "[1] 22"
      ]
     },
     "metadata": {},
     "output_type": "display_data"
    }
   ],
   "source": [
    "which.max(present$boys+present$girls)"
   ]
  },
  {
   "cell_type": "code",
   "execution_count": 12,
   "metadata": {},
   "outputs": [
    {
     "data": {
      "text/html": [
       "<table>\n",
       "<thead><tr><th></th><th scope=col>year</th><th scope=col>boys</th><th scope=col>girls</th></tr></thead>\n",
       "<tbody>\n",
       "\t<tr><th scope=row>22</th><td>   1961</td><td>2186274</td><td>2082052</td></tr>\n",
       "</tbody>\n",
       "</table>\n"
      ],
      "text/latex": [
       "\\begin{tabular}{r|lll}\n",
       "  & year & boys & girls\\\\\n",
       "\\hline\n",
       "\t22 &    1961 & 2186274 & 2082052\\\\\n",
       "\\end{tabular}\n"
      ],
      "text/plain": [
       "   year    boys   girls\n",
       "22 1961 2186274 2082052"
      ]
     },
     "metadata": {},
     "output_type": "display_data"
    }
   ],
   "source": [
    "present[22,]"
   ]
  },
  {
   "cell_type": "markdown",
   "metadata": {},
   "source": [
    "These data come from a report by the Centers for Disease Control http://www.cdc.gov/nchs/data/nvsr/nvsr53/nvsr53_20.pdf. Check it out if you would like to read more about an analysis of sex ratios at birth in the United States.\n",
    "\n",
    "---\n",
    "\n",
    "That was a short introduction to R and jupyter notebooks, we will continue to introduce more as the course continues.  \n",
    "\n",
    "I am maintaining a list of R commands that I expect you know how to use on moodle.\n",
    "\n",
    "---\n",
    "\n",
    "There is a lot more that you can do in R and with jupyter notebooks, you can find more information online. \n",
    "\n",
    "There are also texbook specific examples for practice at  http://openintro.org."
   ]
  },
  {
   "cell_type": "markdown",
   "metadata": {},
   "source": [
    "This is adapted from a worksheet produced by  OpenIntro that is released under a Creative Commons Attribution-ShareAlike 3.0 Unported. This lab was adapted for OpenIntro by Andrew Bray and Mine Çetinkaya-Rundel from a lab written by Mark Hansen of UCLA Statistics.\n",
    "\n"
   ]
  },
  {
   "cell_type": "markdown",
   "metadata": {},
   "source": [
    "## When you are done, download as html, then submit your answers on moodle."
   ]
  }
 ],
 "metadata": {
  "kernelspec": {
   "display_name": "R",
   "language": "R",
   "name": "ir"
  },
  "language_info": {
   "codemirror_mode": "r",
   "file_extension": ".r",
   "mimetype": "text/x-r-source",
   "name": "R",
   "pygments_lexer": "r",
   "version": "3.4.2"
  }
 },
 "nbformat": 4,
 "nbformat_minor": 2
}
