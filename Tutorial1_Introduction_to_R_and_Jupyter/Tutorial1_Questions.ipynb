{
 "cells": [
  {
   "cell_type": "markdown",
   "metadata": {},
   "source": [
    "# Tutorial Questions\n",
    "\n",
    "## You get to try out analysing some more modern data.\n",
    "\n",
    "The first thing you need to do is run this code to load the new data set.\n",
    "\n",
    "\n",
    "\n",
    "`source(\"http://www.openintro.org/stat/data/present.R\")`\n",
    "\n",
    "\n",
    "\n",
    "\n",
    "The data are stored in a data frame called  `present` ."
   ]
  },
  {
   "cell_type": "code",
   "execution_count": null,
   "metadata": {},
   "outputs": [],
   "source": [
    "source(\"http://www.openintro.org/stat/data/present.R\")"
   ]
  },
  {
   "cell_type": "markdown",
   "metadata": {},
   "source": [
    "Lets explore the data set.  \n",
    "\n",
    "Use the code cells below to find the answers to the following questions.\n",
    "\n",
    "1. What years are included in this data set? \n",
    "2. What are the dimensions of the data frame and what are the variable or column names?\n",
    "3. How do these counts compare to Arbuthnot’s? Are they on a similar scale?\n",
    "\n",
    "\n",
    "\n",
    "\n",
    "\n"
   ]
  },
  {
   "cell_type": "code",
   "execution_count": null,
   "metadata": {},
   "outputs": [],
   "source": []
  },
  {
   "cell_type": "code",
   "execution_count": null,
   "metadata": {},
   "outputs": [],
   "source": []
  },
  {
   "cell_type": "code",
   "execution_count": null,
   "metadata": {},
   "outputs": [],
   "source": []
  },
  {
   "cell_type": "code",
   "execution_count": null,
   "metadata": {},
   "outputs": [],
   "source": []
  },
  {
   "cell_type": "markdown",
   "metadata": {},
   "source": [
    "### You can add your answers for question 1, 2, 3 here  (double click to edit)\n",
    "\n",
    "\n",
    "#### 1) What years are included in this data set? \n",
    "\n",
    "\n",
    "\n",
    "#### 2) What are the dimensions of the data frame and what are the variable or column names? \n",
    "\n",
    "\n",
    "\n",
    "#### 3) How do these counts compare to Arbuthnot’s? Are they on a similar scale? \n",
    "\n",
    "\n",
    "\n",
    "\n",
    "\n",
    "\n",
    "---\n",
    "\n",
    "---"
   ]
  },
  {
   "cell_type": "markdown",
   "metadata": {},
   "source": [
    "#### 4) Make a plot that displays the boy-to-girl ratio for every year in the data set. \n",
    "\n",
    "\n",
    "\n",
    " "
   ]
  },
  {
   "cell_type": "code",
   "execution_count": null,
   "metadata": {},
   "outputs": [],
   "source": []
  },
  {
   "cell_type": "code",
   "execution_count": null,
   "metadata": {},
   "outputs": [],
   "source": []
  },
  {
   "cell_type": "markdown",
   "metadata": {},
   "source": [
    "\n",
    "#### 5) What do you see?    \n",
    "###### Does Arbuthnot’s observation about boys being born in greater proportion than girls hold up in the U.S.?  "
   ]
  },
  {
   "cell_type": "code",
   "execution_count": null,
   "metadata": {},
   "outputs": [],
   "source": []
  },
  {
   "cell_type": "markdown",
   "metadata": {},
   "source": [
    "\n",
    "\n"
   ]
  },
  {
   "cell_type": "markdown",
   "metadata": {},
   "source": [
    "#### 6) In what year did we see the most total number of births in the U.S.  (An estimate is fine, just show me how you found it.)?  \n",
    "\n"
   ]
  },
  {
   "cell_type": "code",
   "execution_count": null,
   "metadata": {},
   "outputs": [],
   "source": []
  },
  {
   "cell_type": "code",
   "execution_count": null,
   "metadata": {},
   "outputs": [],
   "source": []
  },
  {
   "cell_type": "code",
   "execution_count": null,
   "metadata": {},
   "outputs": [],
   "source": []
  },
  {
   "cell_type": "markdown",
   "metadata": {},
   "source": [
    "These data come from a report by the Centers for Disease Control http://www.cdc.gov/nchs/data/nvsr/nvsr53/nvsr53_20.pdf. Check it out if you would like to read more about an analysis of sex ratios at birth in the United States.\n",
    "\n",
    "---\n",
    "\n",
    "That was a short introduction to R and jupyter notebooks, we will continue to introduce more as the course continues.  \n",
    "\n",
    "I am maintaining a list of R commands that I expect you know how to use on moodle.\n",
    "\n",
    "---\n",
    "\n",
    "There is a lot more that you can do in R and with jupyter notebooks, you can find more information online. \n",
    "\n",
    "There are also texbook specific examples for practice at  http://openintro.org."
   ]
  },
  {
   "cell_type": "markdown",
   "metadata": {},
   "source": [
    "---\n",
    "---\n",
    "#### This tutorial is released under a Creative Commons Attribution-ShareAlike 3.0 Unported.\n",
    "\n",
    "\n",
    "\n",
    "This tutorial has been adapted from a lab that  was adapted for OpenIntro by Andrew Bray and Mine Çetinkaya-Rundel from a lab written by Mark Hansen of UCLA Statistics.\n",
    "\n",
    "---\n",
    "---"
   ]
  },
  {
   "cell_type": "markdown",
   "metadata": {},
   "source": [
    "## When you are done, download as html, then submit your answers on moodle."
   ]
  }
 ],
 "metadata": {
  "kernelspec": {
   "display_name": "R",
   "language": "R",
   "name": "ir"
  },
  "language_info": {
   "codemirror_mode": "r",
   "file_extension": ".r",
   "mimetype": "text/x-r-source",
   "name": "R",
   "pygments_lexer": "r",
   "version": "3.5.1"
  }
 },
 "nbformat": 4,
 "nbformat_minor": 2
}
