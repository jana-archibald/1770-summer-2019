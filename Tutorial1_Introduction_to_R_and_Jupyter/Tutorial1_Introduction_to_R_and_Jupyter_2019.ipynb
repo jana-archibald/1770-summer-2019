{
 "cells": [
  {
   "cell_type": "markdown",
   "metadata": {
    "slideshow": {
     "slide_type": "slide"
    }
   },
   "source": [
    "# Welcome to Tutorial 1\n",
    "\n",
    "---\n",
    "\n",
    "## Goal: Working with jupyer notebooks on SYZYGY.\n",
    "\n",
    "---"
   ]
  },
  {
   "cell_type": "markdown",
   "metadata": {
    "slideshow": {
     "slide_type": "slide"
    }
   },
   "source": [
    "### Step 1\n",
    "\n",
    "- Log in to Syzygy\n",
    "\n",
    "https://uleth.syzygy.ca/\n",
    "\n",
    "Use your uleth login credintials.\n",
    "\n",
    "There are tutorials about syzygy  here: \n",
    "http://intro.syzygy.ca/\n",
    "\n",
    "---"
   ]
  },
  {
   "cell_type": "markdown",
   "metadata": {
    "slideshow": {
     "slide_type": "slide"
    }
   },
   "source": [
    "### Step 2\n",
    "\n",
    "### Get a copy of this weeks notebooks\n",
    "\n",
    "We will be using R notebooks for all (or most) of our tutorials.\n",
    "\n",
    "Use the link in moodle to get access to this notebook.\n",
    "\n",
    "(You may need to copy and paste the link in to your web browser)\n",
    "\n",
    "Alternatly you can download the notebook from moodle and upload it to syzygy.\n",
    "\n",
    "---"
   ]
  },
  {
   "cell_type": "markdown",
   "metadata": {
    "slideshow": {
     "slide_type": "slide"
    }
   },
   "source": [
    "### Step 3\n",
    "### File management\n",
    "\n",
    "- Create jupyter notebook\n",
    "- download a jupyer notebook\n",
    "- Creating Folders\n",
    "- Different save options\n",
    "\n",
    "---"
   ]
  },
  {
   "cell_type": "markdown",
   "metadata": {
    "slideshow": {
     "slide_type": "slide"
    }
   },
   "source": [
    "### Step 4\n",
    "### Anatomy of an R notebook\n",
    "\n",
    "---"
   ]
  },
  {
   "cell_type": "markdown",
   "metadata": {
    "slideshow": {
     "slide_type": "slide"
    }
   },
   "source": [
    "\n",
    "# Markdown Cells\n",
    "This is a markdown cell, it is where you write about your work, answer questions...  \n",
    "\n",
    "You can edit this by double clicking, or pressing enter.  You can make it look nice again by pressing \n",
    "shift + enter\n",
    "\n",
    "---"
   ]
  },
  {
   "cell_type": "markdown",
   "metadata": {
    "slideshow": {
     "slide_type": "slide"
    }
   },
   "source": [
    "# 1 Try this out by answering the following questions:\n",
    "\n",
    "1. What is your name\n",
    "\n",
    "4. What is your major\n",
    "\n",
    "5. Why are you taking stat 1770?\n",
    "\n",
    "\n",
    "**You can use various methods to make your text look nice, but plain text is fine. **\n",
    "\n",
    "---"
   ]
  },
  {
   "cell_type": "markdown",
   "metadata": {
    "slideshow": {
     "slide_type": "slide"
    }
   },
   "source": [
    "# Code Cells\n",
    "\n",
    "Below are three code cells.  \n",
    "\n",
    "Code cells are where we will use R to compute statistics or produce plots.  Or as I have done here do some simple arithmetic.\n",
    "\n",
    "- You can double click on a code cell to edit it.\n",
    "- shift + enter will run the code."
   ]
  },
  {
   "cell_type": "code",
   "execution_count": 1,
   "metadata": {
    "slideshow": {
     "slide_type": "subslide"
    }
   },
   "outputs": [
    {
     "data": {
      "text/html": [
       "9"
      ],
      "text/latex": [
       "9"
      ],
      "text/markdown": [
       "9"
      ],
      "text/plain": [
       "[1] 9"
      ]
     },
     "metadata": {},
     "output_type": "display_data"
    }
   ],
   "source": [
    "4+5"
   ]
  },
  {
   "cell_type": "code",
   "execution_count": 2,
   "metadata": {
    "slideshow": {
     "slide_type": "fragment"
    }
   },
   "outputs": [
    {
     "data": {
      "text/html": [
       "6"
      ],
      "text/latex": [
       "6"
      ],
      "text/markdown": [
       "6"
      ],
      "text/plain": [
       "[1] 6"
      ]
     },
     "metadata": {},
     "output_type": "display_data"
    }
   ],
   "source": [
    "2*3"
   ]
  },
  {
   "cell_type": "code",
   "execution_count": 3,
   "metadata": {
    "scrolled": true,
    "slideshow": {
     "slide_type": "fragment"
    }
   },
   "outputs": [
    {
     "data": {
      "text/html": [
       "3"
      ],
      "text/latex": [
       "3"
      ],
      "text/markdown": [
       "3"
      ],
      "text/plain": [
       "[1] 3"
      ]
     },
     "metadata": {},
     "output_type": "display_data"
    }
   ],
   "source": [
    "15/5"
   ]
  },
  {
   "cell_type": "markdown",
   "metadata": {
    "slideshow": {
     "slide_type": "slide"
    }
   },
   "source": [
    "## Basic Statistics\n",
    "\n",
    "### Mean\n",
    "\n",
    "Find the **average**  of the following numbers:\n",
    "\n",
    "1, 3, 6, 10, 15, 20\n",
    "\n",
    "\n",
    "\n"
   ]
  },
  {
   "cell_type": "code",
   "execution_count": null,
   "metadata": {
    "slideshow": {
     "slide_type": "subslide"
    }
   },
   "outputs": [],
   "source": []
  },
  {
   "cell_type": "code",
   "execution_count": null,
   "metadata": {
    "slideshow": {
     "slide_type": "fragment"
    }
   },
   "outputs": [],
   "source": []
  },
  {
   "cell_type": "code",
   "execution_count": null,
   "metadata": {},
   "outputs": [],
   "source": []
  },
  {
   "cell_type": "code",
   "execution_count": null,
   "metadata": {},
   "outputs": [],
   "source": []
  },
  {
   "cell_type": "markdown",
   "metadata": {
    "slideshow": {
     "slide_type": "slide"
    }
   },
   "source": [
    "Since R is a statistical language, we should expect that it knows how to compute the average.  \n",
    "\n",
    "\n",
    "---\n",
    "\n",
    "To do this we can use the `mean()` command.  We will discuss in our next class why statiticians use this word.\n"
   ]
  },
  {
   "cell_type": "code",
   "execution_count": null,
   "metadata": {
    "slideshow": {
     "slide_type": "subslide"
    }
   },
   "outputs": [],
   "source": [
    "mean(c(1,3,6,10,15,20))"
   ]
  },
  {
   "cell_type": "code",
   "execution_count": null,
   "metadata": {
    "slideshow": {
     "slide_type": "fragment"
    }
   },
   "outputs": [],
   "source": []
  },
  {
   "cell_type": "markdown",
   "metadata": {
    "slideshow": {
     "slide_type": "fragment"
    }
   },
   "source": [
    "---\n",
    "Why do we need that c??\n",
    "\n",
    "---"
   ]
  },
  {
   "cell_type": "markdown",
   "metadata": {
    "slideshow": {
     "slide_type": "slide"
    }
   },
   "source": [
    "# Loading and Working with Data\n",
    "\n",
    "We will now load some data so that we can try out some of the R abilities.\n",
    "\n",
    "We need to load some actuall data.  \n",
    "\n",
    "We will be use some christenings from John Arbuthnot (1710).\n",
    "\n",
    "Please run the code below."
   ]
  },
  {
   "cell_type": "code",
   "execution_count": 4,
   "metadata": {
    "slideshow": {
     "slide_type": "subslide"
    }
   },
   "outputs": [],
   "source": [
    "source(\"http://www.openintro.org/stat/data/arbuthnot.R\")"
   ]
  },
  {
   "cell_type": "markdown",
   "metadata": {
    "slideshow": {
     "slide_type": "slide"
    }
   },
   "source": [
    "We have now loaded a table called `arbuthnot` which contains the number of christenings for boys and girls from 1629 to 1710. "
   ]
  },
  {
   "cell_type": "markdown",
   "metadata": {
    "slideshow": {
     "slide_type": "subslide"
    }
   },
   "source": [
    "If you want to *see* an object that you have saved in **R** you can type its name."
   ]
  },
  {
   "cell_type": "code",
   "execution_count": 5,
   "metadata": {
    "slideshow": {
     "slide_type": "fragment"
    }
   },
   "outputs": [
    {
     "data": {
      "text/html": [
       "<table>\n",
       "<thead><tr><th scope=col>year</th><th scope=col>boys</th><th scope=col>girls</th></tr></thead>\n",
       "<tbody>\n",
       "\t<tr><td>1629</td><td>5218</td><td>4683</td></tr>\n",
       "\t<tr><td>1630</td><td>4858</td><td>4457</td></tr>\n",
       "\t<tr><td>1631</td><td>4422</td><td>4102</td></tr>\n",
       "\t<tr><td>1632</td><td>4994</td><td>4590</td></tr>\n",
       "\t<tr><td>1633</td><td>5158</td><td>4839</td></tr>\n",
       "\t<tr><td>1634</td><td>5035</td><td>4820</td></tr>\n",
       "\t<tr><td>1635</td><td>5106</td><td>4928</td></tr>\n",
       "\t<tr><td>1636</td><td>4917</td><td>4605</td></tr>\n",
       "\t<tr><td>1637</td><td>4703</td><td>4457</td></tr>\n",
       "\t<tr><td>1638</td><td>5359</td><td>4952</td></tr>\n",
       "\t<tr><td>1639</td><td>5366</td><td>4784</td></tr>\n",
       "\t<tr><td>1640</td><td>5518</td><td>5332</td></tr>\n",
       "\t<tr><td>1641</td><td>5470</td><td>5200</td></tr>\n",
       "\t<tr><td>1642</td><td>5460</td><td>4910</td></tr>\n",
       "\t<tr><td>1643</td><td>4793</td><td>4617</td></tr>\n",
       "\t<tr><td>1644</td><td>4107</td><td>3997</td></tr>\n",
       "\t<tr><td>1645</td><td>4047</td><td>3919</td></tr>\n",
       "\t<tr><td>1646</td><td>3768</td><td>3395</td></tr>\n",
       "\t<tr><td>1647</td><td>3796</td><td>3536</td></tr>\n",
       "\t<tr><td>1648</td><td>3363</td><td>3181</td></tr>\n",
       "\t<tr><td>1649</td><td>3079</td><td>2746</td></tr>\n",
       "\t<tr><td>1650</td><td>2890</td><td>2722</td></tr>\n",
       "\t<tr><td>1651</td><td>3231</td><td>2840</td></tr>\n",
       "\t<tr><td>1652</td><td>3220</td><td>2908</td></tr>\n",
       "\t<tr><td>1653</td><td>3196</td><td>2959</td></tr>\n",
       "\t<tr><td>1654</td><td>3441</td><td>3179</td></tr>\n",
       "\t<tr><td>1655</td><td>3655</td><td>3349</td></tr>\n",
       "\t<tr><td>1656</td><td>3668</td><td>3382</td></tr>\n",
       "\t<tr><td>1657</td><td>3396</td><td>3289</td></tr>\n",
       "\t<tr><td>1658</td><td>3157</td><td>3013</td></tr>\n",
       "\t<tr><td>⋮</td><td>⋮</td><td>⋮</td></tr>\n",
       "\t<tr><td>1681</td><td>6822</td><td>6533</td></tr>\n",
       "\t<tr><td>1682</td><td>6909</td><td>6744</td></tr>\n",
       "\t<tr><td>1683</td><td>7577</td><td>7158</td></tr>\n",
       "\t<tr><td>1684</td><td>7575</td><td>7127</td></tr>\n",
       "\t<tr><td>1685</td><td>7484</td><td>7246</td></tr>\n",
       "\t<tr><td>1686</td><td>7575</td><td>7119</td></tr>\n",
       "\t<tr><td>1687</td><td>7737</td><td>7214</td></tr>\n",
       "\t<tr><td>1688</td><td>7487</td><td>7101</td></tr>\n",
       "\t<tr><td>1689</td><td>7604</td><td>7167</td></tr>\n",
       "\t<tr><td>1690</td><td>7909</td><td>7302</td></tr>\n",
       "\t<tr><td>1691</td><td>7662</td><td>7392</td></tr>\n",
       "\t<tr><td>1692</td><td>7602</td><td>7316</td></tr>\n",
       "\t<tr><td>1693</td><td>7676</td><td>7483</td></tr>\n",
       "\t<tr><td>1694</td><td>6985</td><td>6647</td></tr>\n",
       "\t<tr><td>1695</td><td>7263</td><td>6713</td></tr>\n",
       "\t<tr><td>1696</td><td>7632</td><td>7229</td></tr>\n",
       "\t<tr><td>1697</td><td>8062</td><td>7767</td></tr>\n",
       "\t<tr><td>1698</td><td>8426</td><td>7626</td></tr>\n",
       "\t<tr><td>1699</td><td>7911</td><td>7452</td></tr>\n",
       "\t<tr><td>1700</td><td>7578</td><td>7061</td></tr>\n",
       "\t<tr><td>1701</td><td>8102</td><td>7514</td></tr>\n",
       "\t<tr><td>1702</td><td>8031</td><td>7656</td></tr>\n",
       "\t<tr><td>1703</td><td>7765</td><td>7683</td></tr>\n",
       "\t<tr><td>1704</td><td>6113</td><td>5738</td></tr>\n",
       "\t<tr><td>1705</td><td>8366</td><td>7779</td></tr>\n",
       "\t<tr><td>1706</td><td>7952</td><td>7417</td></tr>\n",
       "\t<tr><td>1707</td><td>8379</td><td>7687</td></tr>\n",
       "\t<tr><td>1708</td><td>8239</td><td>7623</td></tr>\n",
       "\t<tr><td>1709</td><td>7840</td><td>7380</td></tr>\n",
       "\t<tr><td>1710</td><td>7640</td><td>7288</td></tr>\n",
       "</tbody>\n",
       "</table>\n"
      ],
      "text/latex": [
       "\\begin{tabular}{r|lll}\n",
       " year & boys & girls\\\\\n",
       "\\hline\n",
       "\t 1629 & 5218 & 4683\\\\\n",
       "\t 1630 & 4858 & 4457\\\\\n",
       "\t 1631 & 4422 & 4102\\\\\n",
       "\t 1632 & 4994 & 4590\\\\\n",
       "\t 1633 & 5158 & 4839\\\\\n",
       "\t 1634 & 5035 & 4820\\\\\n",
       "\t 1635 & 5106 & 4928\\\\\n",
       "\t 1636 & 4917 & 4605\\\\\n",
       "\t 1637 & 4703 & 4457\\\\\n",
       "\t 1638 & 5359 & 4952\\\\\n",
       "\t 1639 & 5366 & 4784\\\\\n",
       "\t 1640 & 5518 & 5332\\\\\n",
       "\t 1641 & 5470 & 5200\\\\\n",
       "\t 1642 & 5460 & 4910\\\\\n",
       "\t 1643 & 4793 & 4617\\\\\n",
       "\t 1644 & 4107 & 3997\\\\\n",
       "\t 1645 & 4047 & 3919\\\\\n",
       "\t 1646 & 3768 & 3395\\\\\n",
       "\t 1647 & 3796 & 3536\\\\\n",
       "\t 1648 & 3363 & 3181\\\\\n",
       "\t 1649 & 3079 & 2746\\\\\n",
       "\t 1650 & 2890 & 2722\\\\\n",
       "\t 1651 & 3231 & 2840\\\\\n",
       "\t 1652 & 3220 & 2908\\\\\n",
       "\t 1653 & 3196 & 2959\\\\\n",
       "\t 1654 & 3441 & 3179\\\\\n",
       "\t 1655 & 3655 & 3349\\\\\n",
       "\t 1656 & 3668 & 3382\\\\\n",
       "\t 1657 & 3396 & 3289\\\\\n",
       "\t 1658 & 3157 & 3013\\\\\n",
       "\t ⋮ & ⋮ & ⋮\\\\\n",
       "\t 1681 & 6822 & 6533\\\\\n",
       "\t 1682 & 6909 & 6744\\\\\n",
       "\t 1683 & 7577 & 7158\\\\\n",
       "\t 1684 & 7575 & 7127\\\\\n",
       "\t 1685 & 7484 & 7246\\\\\n",
       "\t 1686 & 7575 & 7119\\\\\n",
       "\t 1687 & 7737 & 7214\\\\\n",
       "\t 1688 & 7487 & 7101\\\\\n",
       "\t 1689 & 7604 & 7167\\\\\n",
       "\t 1690 & 7909 & 7302\\\\\n",
       "\t 1691 & 7662 & 7392\\\\\n",
       "\t 1692 & 7602 & 7316\\\\\n",
       "\t 1693 & 7676 & 7483\\\\\n",
       "\t 1694 & 6985 & 6647\\\\\n",
       "\t 1695 & 7263 & 6713\\\\\n",
       "\t 1696 & 7632 & 7229\\\\\n",
       "\t 1697 & 8062 & 7767\\\\\n",
       "\t 1698 & 8426 & 7626\\\\\n",
       "\t 1699 & 7911 & 7452\\\\\n",
       "\t 1700 & 7578 & 7061\\\\\n",
       "\t 1701 & 8102 & 7514\\\\\n",
       "\t 1702 & 8031 & 7656\\\\\n",
       "\t 1703 & 7765 & 7683\\\\\n",
       "\t 1704 & 6113 & 5738\\\\\n",
       "\t 1705 & 8366 & 7779\\\\\n",
       "\t 1706 & 7952 & 7417\\\\\n",
       "\t 1707 & 8379 & 7687\\\\\n",
       "\t 1708 & 8239 & 7623\\\\\n",
       "\t 1709 & 7840 & 7380\\\\\n",
       "\t 1710 & 7640 & 7288\\\\\n",
       "\\end{tabular}\n"
      ],
      "text/markdown": [
       "\n",
       "year | boys | girls | \n",
       "|---|---|---|---|---|---|---|---|---|---|---|---|---|---|---|---|---|---|---|---|---|---|---|---|---|---|---|---|---|---|---|---|---|---|---|---|---|---|---|---|---|---|---|---|---|---|---|---|---|---|---|---|---|---|---|---|---|---|---|---|---|\n",
       "| 1629 | 5218 | 4683 | \n",
       "| 1630 | 4858 | 4457 | \n",
       "| 1631 | 4422 | 4102 | \n",
       "| 1632 | 4994 | 4590 | \n",
       "| 1633 | 5158 | 4839 | \n",
       "| 1634 | 5035 | 4820 | \n",
       "| 1635 | 5106 | 4928 | \n",
       "| 1636 | 4917 | 4605 | \n",
       "| 1637 | 4703 | 4457 | \n",
       "| 1638 | 5359 | 4952 | \n",
       "| 1639 | 5366 | 4784 | \n",
       "| 1640 | 5518 | 5332 | \n",
       "| 1641 | 5470 | 5200 | \n",
       "| 1642 | 5460 | 4910 | \n",
       "| 1643 | 4793 | 4617 | \n",
       "| 1644 | 4107 | 3997 | \n",
       "| 1645 | 4047 | 3919 | \n",
       "| 1646 | 3768 | 3395 | \n",
       "| 1647 | 3796 | 3536 | \n",
       "| 1648 | 3363 | 3181 | \n",
       "| 1649 | 3079 | 2746 | \n",
       "| 1650 | 2890 | 2722 | \n",
       "| 1651 | 3231 | 2840 | \n",
       "| 1652 | 3220 | 2908 | \n",
       "| 1653 | 3196 | 2959 | \n",
       "| 1654 | 3441 | 3179 | \n",
       "| 1655 | 3655 | 3349 | \n",
       "| 1656 | 3668 | 3382 | \n",
       "| 1657 | 3396 | 3289 | \n",
       "| 1658 | 3157 | 3013 | \n",
       "| ⋮ | ⋮ | ⋮ | \n",
       "| 1681 | 6822 | 6533 | \n",
       "| 1682 | 6909 | 6744 | \n",
       "| 1683 | 7577 | 7158 | \n",
       "| 1684 | 7575 | 7127 | \n",
       "| 1685 | 7484 | 7246 | \n",
       "| 1686 | 7575 | 7119 | \n",
       "| 1687 | 7737 | 7214 | \n",
       "| 1688 | 7487 | 7101 | \n",
       "| 1689 | 7604 | 7167 | \n",
       "| 1690 | 7909 | 7302 | \n",
       "| 1691 | 7662 | 7392 | \n",
       "| 1692 | 7602 | 7316 | \n",
       "| 1693 | 7676 | 7483 | \n",
       "| 1694 | 6985 | 6647 | \n",
       "| 1695 | 7263 | 6713 | \n",
       "| 1696 | 7632 | 7229 | \n",
       "| 1697 | 8062 | 7767 | \n",
       "| 1698 | 8426 | 7626 | \n",
       "| 1699 | 7911 | 7452 | \n",
       "| 1700 | 7578 | 7061 | \n",
       "| 1701 | 8102 | 7514 | \n",
       "| 1702 | 8031 | 7656 | \n",
       "| 1703 | 7765 | 7683 | \n",
       "| 1704 | 6113 | 5738 | \n",
       "| 1705 | 8366 | 7779 | \n",
       "| 1706 | 7952 | 7417 | \n",
       "| 1707 | 8379 | 7687 | \n",
       "| 1708 | 8239 | 7623 | \n",
       "| 1709 | 7840 | 7380 | \n",
       "| 1710 | 7640 | 7288 | \n",
       "\n",
       "\n"
      ],
      "text/plain": [
       "   year boys girls\n",
       "1  1629 5218 4683 \n",
       "2  1630 4858 4457 \n",
       "3  1631 4422 4102 \n",
       "4  1632 4994 4590 \n",
       "5  1633 5158 4839 \n",
       "6  1634 5035 4820 \n",
       "7  1635 5106 4928 \n",
       "8  1636 4917 4605 \n",
       "9  1637 4703 4457 \n",
       "10 1638 5359 4952 \n",
       "11 1639 5366 4784 \n",
       "12 1640 5518 5332 \n",
       "13 1641 5470 5200 \n",
       "14 1642 5460 4910 \n",
       "15 1643 4793 4617 \n",
       "16 1644 4107 3997 \n",
       "17 1645 4047 3919 \n",
       "18 1646 3768 3395 \n",
       "19 1647 3796 3536 \n",
       "20 1648 3363 3181 \n",
       "21 1649 3079 2746 \n",
       "22 1650 2890 2722 \n",
       "23 1651 3231 2840 \n",
       "24 1652 3220 2908 \n",
       "25 1653 3196 2959 \n",
       "26 1654 3441 3179 \n",
       "27 1655 3655 3349 \n",
       "28 1656 3668 3382 \n",
       "29 1657 3396 3289 \n",
       "30 1658 3157 3013 \n",
       "⋮  ⋮    ⋮    ⋮    \n",
       "53 1681 6822 6533 \n",
       "54 1682 6909 6744 \n",
       "55 1683 7577 7158 \n",
       "56 1684 7575 7127 \n",
       "57 1685 7484 7246 \n",
       "58 1686 7575 7119 \n",
       "59 1687 7737 7214 \n",
       "60 1688 7487 7101 \n",
       "61 1689 7604 7167 \n",
       "62 1690 7909 7302 \n",
       "63 1691 7662 7392 \n",
       "64 1692 7602 7316 \n",
       "65 1693 7676 7483 \n",
       "66 1694 6985 6647 \n",
       "67 1695 7263 6713 \n",
       "68 1696 7632 7229 \n",
       "69 1697 8062 7767 \n",
       "70 1698 8426 7626 \n",
       "71 1699 7911 7452 \n",
       "72 1700 7578 7061 \n",
       "73 1701 8102 7514 \n",
       "74 1702 8031 7656 \n",
       "75 1703 7765 7683 \n",
       "76 1704 6113 5738 \n",
       "77 1705 8366 7779 \n",
       "78 1706 7952 7417 \n",
       "79 1707 8379 7687 \n",
       "80 1708 8239 7623 \n",
       "81 1709 7840 7380 \n",
       "82 1710 7640 7288 "
      ]
     },
     "metadata": {},
     "output_type": "display_data"
    }
   ],
   "source": [
    "arbuthnot"
   ]
  },
  {
   "cell_type": "markdown",
   "metadata": {
    "slideshow": {
     "slide_type": "slide"
    }
   },
   "source": [
    "---\n",
    "\n",
    "We now will have a *look* at the data, by using an **R** command `summary()`.  \n",
    "This will give us the standard summary statistics for the table.\n",
    "\n",
    "---"
   ]
  },
  {
   "cell_type": "code",
   "execution_count": 6,
   "metadata": {
    "slideshow": {
     "slide_type": "subslide"
    }
   },
   "outputs": [
    {
     "data": {
      "text/plain": [
       "      year           boys          girls     \n",
       " Min.   :1629   Min.   :2890   Min.   :2722  \n",
       " 1st Qu.:1649   1st Qu.:4759   1st Qu.:4457  \n",
       " Median :1670   Median :6073   Median :5718  \n",
       " Mean   :1670   Mean   :5907   Mean   :5535  \n",
       " 3rd Qu.:1690   3rd Qu.:7576   3rd Qu.:7150  \n",
       " Max.   :1710   Max.   :8426   Max.   :7779  "
      ]
     },
     "metadata": {},
     "output_type": "display_data"
    }
   ],
   "source": [
    "summary(arbuthnot)"
   ]
  },
  {
   "cell_type": "markdown",
   "metadata": {
    "slideshow": {
     "slide_type": "fragment"
    }
   },
   "source": [
    "You can see that **R** has computed summary statistics for the three columns in the table.  \n",
    "\n",
    "We will be discussing all of these value in out next lecture.\n",
    "\n",
    "What can you say about ths number of christinings?"
   ]
  },
  {
   "cell_type": "markdown",
   "metadata": {},
   "source": [
    "You can use `$` to specify a column of numbers.  So  `arbuthnot$boys` selects the column with the boys christinings.  "
   ]
  },
  {
   "cell_type": "code",
   "execution_count": 7,
   "metadata": {},
   "outputs": [
    {
     "data": {
      "text/html": [
       "<ol class=list-inline>\n",
       "\t<li>5218</li>\n",
       "\t<li>4858</li>\n",
       "\t<li>4422</li>\n",
       "\t<li>4994</li>\n",
       "\t<li>5158</li>\n",
       "\t<li>5035</li>\n",
       "\t<li>5106</li>\n",
       "\t<li>4917</li>\n",
       "\t<li>4703</li>\n",
       "\t<li>5359</li>\n",
       "\t<li>5366</li>\n",
       "\t<li>5518</li>\n",
       "\t<li>5470</li>\n",
       "\t<li>5460</li>\n",
       "\t<li>4793</li>\n",
       "\t<li>4107</li>\n",
       "\t<li>4047</li>\n",
       "\t<li>3768</li>\n",
       "\t<li>3796</li>\n",
       "\t<li>3363</li>\n",
       "\t<li>3079</li>\n",
       "\t<li>2890</li>\n",
       "\t<li>3231</li>\n",
       "\t<li>3220</li>\n",
       "\t<li>3196</li>\n",
       "\t<li>3441</li>\n",
       "\t<li>3655</li>\n",
       "\t<li>3668</li>\n",
       "\t<li>3396</li>\n",
       "\t<li>3157</li>\n",
       "\t<li>3209</li>\n",
       "\t<li>3724</li>\n",
       "\t<li>4748</li>\n",
       "\t<li>5216</li>\n",
       "\t<li>5411</li>\n",
       "\t<li>6041</li>\n",
       "\t<li>5114</li>\n",
       "\t<li>4678</li>\n",
       "\t<li>5616</li>\n",
       "\t<li>6073</li>\n",
       "\t<li>6506</li>\n",
       "\t<li>6278</li>\n",
       "\t<li>6449</li>\n",
       "\t<li>6443</li>\n",
       "\t<li>6073</li>\n",
       "\t<li>6113</li>\n",
       "\t<li>6058</li>\n",
       "\t<li>6552</li>\n",
       "\t<li>6423</li>\n",
       "\t<li>6568</li>\n",
       "\t<li>6247</li>\n",
       "\t<li>6548</li>\n",
       "\t<li>6822</li>\n",
       "\t<li>6909</li>\n",
       "\t<li>7577</li>\n",
       "\t<li>7575</li>\n",
       "\t<li>7484</li>\n",
       "\t<li>7575</li>\n",
       "\t<li>7737</li>\n",
       "\t<li>7487</li>\n",
       "\t<li>7604</li>\n",
       "\t<li>7909</li>\n",
       "\t<li>7662</li>\n",
       "\t<li>7602</li>\n",
       "\t<li>7676</li>\n",
       "\t<li>6985</li>\n",
       "\t<li>7263</li>\n",
       "\t<li>7632</li>\n",
       "\t<li>8062</li>\n",
       "\t<li>8426</li>\n",
       "\t<li>7911</li>\n",
       "\t<li>7578</li>\n",
       "\t<li>8102</li>\n",
       "\t<li>8031</li>\n",
       "\t<li>7765</li>\n",
       "\t<li>6113</li>\n",
       "\t<li>8366</li>\n",
       "\t<li>7952</li>\n",
       "\t<li>8379</li>\n",
       "\t<li>8239</li>\n",
       "\t<li>7840</li>\n",
       "\t<li>7640</li>\n",
       "</ol>\n"
      ],
      "text/latex": [
       "\\begin{enumerate*}\n",
       "\\item 5218\n",
       "\\item 4858\n",
       "\\item 4422\n",
       "\\item 4994\n",
       "\\item 5158\n",
       "\\item 5035\n",
       "\\item 5106\n",
       "\\item 4917\n",
       "\\item 4703\n",
       "\\item 5359\n",
       "\\item 5366\n",
       "\\item 5518\n",
       "\\item 5470\n",
       "\\item 5460\n",
       "\\item 4793\n",
       "\\item 4107\n",
       "\\item 4047\n",
       "\\item 3768\n",
       "\\item 3796\n",
       "\\item 3363\n",
       "\\item 3079\n",
       "\\item 2890\n",
       "\\item 3231\n",
       "\\item 3220\n",
       "\\item 3196\n",
       "\\item 3441\n",
       "\\item 3655\n",
       "\\item 3668\n",
       "\\item 3396\n",
       "\\item 3157\n",
       "\\item 3209\n",
       "\\item 3724\n",
       "\\item 4748\n",
       "\\item 5216\n",
       "\\item 5411\n",
       "\\item 6041\n",
       "\\item 5114\n",
       "\\item 4678\n",
       "\\item 5616\n",
       "\\item 6073\n",
       "\\item 6506\n",
       "\\item 6278\n",
       "\\item 6449\n",
       "\\item 6443\n",
       "\\item 6073\n",
       "\\item 6113\n",
       "\\item 6058\n",
       "\\item 6552\n",
       "\\item 6423\n",
       "\\item 6568\n",
       "\\item 6247\n",
       "\\item 6548\n",
       "\\item 6822\n",
       "\\item 6909\n",
       "\\item 7577\n",
       "\\item 7575\n",
       "\\item 7484\n",
       "\\item 7575\n",
       "\\item 7737\n",
       "\\item 7487\n",
       "\\item 7604\n",
       "\\item 7909\n",
       "\\item 7662\n",
       "\\item 7602\n",
       "\\item 7676\n",
       "\\item 6985\n",
       "\\item 7263\n",
       "\\item 7632\n",
       "\\item 8062\n",
       "\\item 8426\n",
       "\\item 7911\n",
       "\\item 7578\n",
       "\\item 8102\n",
       "\\item 8031\n",
       "\\item 7765\n",
       "\\item 6113\n",
       "\\item 8366\n",
       "\\item 7952\n",
       "\\item 8379\n",
       "\\item 8239\n",
       "\\item 7840\n",
       "\\item 7640\n",
       "\\end{enumerate*}\n"
      ],
      "text/markdown": [
       "1. 5218\n",
       "2. 4858\n",
       "3. 4422\n",
       "4. 4994\n",
       "5. 5158\n",
       "6. 5035\n",
       "7. 5106\n",
       "8. 4917\n",
       "9. 4703\n",
       "10. 5359\n",
       "11. 5366\n",
       "12. 5518\n",
       "13. 5470\n",
       "14. 5460\n",
       "15. 4793\n",
       "16. 4107\n",
       "17. 4047\n",
       "18. 3768\n",
       "19. 3796\n",
       "20. 3363\n",
       "21. 3079\n",
       "22. 2890\n",
       "23. 3231\n",
       "24. 3220\n",
       "25. 3196\n",
       "26. 3441\n",
       "27. 3655\n",
       "28. 3668\n",
       "29. 3396\n",
       "30. 3157\n",
       "31. 3209\n",
       "32. 3724\n",
       "33. 4748\n",
       "34. 5216\n",
       "35. 5411\n",
       "36. 6041\n",
       "37. 5114\n",
       "38. 4678\n",
       "39. 5616\n",
       "40. 6073\n",
       "41. 6506\n",
       "42. 6278\n",
       "43. 6449\n",
       "44. 6443\n",
       "45. 6073\n",
       "46. 6113\n",
       "47. 6058\n",
       "48. 6552\n",
       "49. 6423\n",
       "50. 6568\n",
       "51. 6247\n",
       "52. 6548\n",
       "53. 6822\n",
       "54. 6909\n",
       "55. 7577\n",
       "56. 7575\n",
       "57. 7484\n",
       "58. 7575\n",
       "59. 7737\n",
       "60. 7487\n",
       "61. 7604\n",
       "62. 7909\n",
       "63. 7662\n",
       "64. 7602\n",
       "65. 7676\n",
       "66. 6985\n",
       "67. 7263\n",
       "68. 7632\n",
       "69. 8062\n",
       "70. 8426\n",
       "71. 7911\n",
       "72. 7578\n",
       "73. 8102\n",
       "74. 8031\n",
       "75. 7765\n",
       "76. 6113\n",
       "77. 8366\n",
       "78. 7952\n",
       "79. 8379\n",
       "80. 8239\n",
       "81. 7840\n",
       "82. 7640\n",
       "\n",
       "\n"
      ],
      "text/plain": [
       " [1] 5218 4858 4422 4994 5158 5035 5106 4917 4703 5359 5366 5518 5470 5460 4793\n",
       "[16] 4107 4047 3768 3796 3363 3079 2890 3231 3220 3196 3441 3655 3668 3396 3157\n",
       "[31] 3209 3724 4748 5216 5411 6041 5114 4678 5616 6073 6506 6278 6449 6443 6073\n",
       "[46] 6113 6058 6552 6423 6568 6247 6548 6822 6909 7577 7575 7484 7575 7737 7487\n",
       "[61] 7604 7909 7662 7602 7676 6985 7263 7632 8062 8426 7911 7578 8102 8031 7765\n",
       "[76] 6113 8366 7952 8379 8239 7840 7640"
      ]
     },
     "metadata": {},
     "output_type": "display_data"
    }
   ],
   "source": [
    "arbuthnot$boys"
   ]
  },
  {
   "cell_type": "code",
   "execution_count": null,
   "metadata": {},
   "outputs": [],
   "source": [
    "mean(arbuthnot$boys)"
   ]
  },
  {
   "cell_type": "markdown",
   "metadata": {},
   "source": [
    "How would you select all of the girls?"
   ]
  },
  {
   "cell_type": "code",
   "execution_count": null,
   "metadata": {},
   "outputs": [],
   "source": []
  },
  {
   "cell_type": "markdown",
   "metadata": {},
   "source": [
    "R also has many built in ploting options, there are a number that we will use this term.  The most basic is the `plot()` command.  \n",
    "\n",
    "Below I will plot the number of girls christined by year.  "
   ]
  },
  {
   "cell_type": "code",
   "execution_count": null,
   "metadata": {},
   "outputs": [],
   "source": [
    "plot(x = arbuthnot$year, y = arbuthnot$girls)"
   ]
  },
  {
   "cell_type": "code",
   "execution_count": null,
   "metadata": {},
   "outputs": [],
   "source": [
    "plot(x = arbuthnot$year, y = arbuthnot$girls, type = \"l\")"
   ]
  },
  {
   "cell_type": "code",
   "execution_count": null,
   "metadata": {},
   "outputs": [],
   "source": [
    "help(plot)"
   ]
  },
  {
   "cell_type": "code",
   "execution_count": null,
   "metadata": {},
   "outputs": [],
   "source": [
    "plot(x = arbuthnot$year, y = arbuthnot$boys, type = \"l\")"
   ]
  },
  {
   "cell_type": "markdown",
   "metadata": {},
   "source": [
    "You can adjust many features of the plot, but for our purposes the defalut will frequently be sufficient.\n",
    "\n"
   ]
  },
  {
   "cell_type": "markdown",
   "metadata": {
    "collapsed": true
   },
   "source": [
    "You can also do arithmetic with columns of numbers.  I computed the total number of children chrisitened each year."
   ]
  },
  {
   "cell_type": "code",
   "execution_count": null,
   "metadata": {},
   "outputs": [],
   "source": [
    "arbuthnot$boys + arbuthnot$girls"
   ]
  },
  {
   "cell_type": "code",
   "execution_count": null,
   "metadata": {},
   "outputs": [],
   "source": [
    "plot(x = arbuthnot$year, y =  arbuthnot$boys, type = \"l\",col=\"blue\")\n",
    "lines(x = arbuthnot$year, y =  arbuthnot$girls, type = \"l\", col=\"green\")"
   ]
  },
  {
   "cell_type": "code",
   "execution_count": null,
   "metadata": {},
   "outputs": [],
   "source": [
    "plot(x = arbuthnot$year, y =  arbuthnot$boys, type = \"p\",col=\"blue\",pch=16)\n",
    "lines(x = arbuthnot$year, y =  arbuthnot$girls, type = \"p\", col=\"pink\",pch=15)"
   ]
  },
  {
   "cell_type": "markdown",
   "metadata": {},
   "source": [
    "I now want to explore the proportion of the children who are boys.  I might expect that approximately 50% of the children would be boys."
   ]
  },
  {
   "cell_type": "code",
   "execution_count": null,
   "metadata": {},
   "outputs": [],
   "source": [
    "arbuthnot$boys / (arbuthnot$boys + arbuthnot$girls)"
   ]
  },
  {
   "cell_type": "code",
   "execution_count": null,
   "metadata": {},
   "outputs": [],
   "source": [
    "plot(x=arbuthnot$year, y=arbuthnot$boys / (arbuthnot$boys + arbuthnot$girls))"
   ]
  },
  {
   "cell_type": "code",
   "execution_count": null,
   "metadata": {},
   "outputs": [],
   "source": [
    "plot(x=arbuthnot$year, y=arbuthnot$boys / (arbuthnot$boys + arbuthnot$girls), type=\"l\")"
   ]
  },
  {
   "cell_type": "markdown",
   "metadata": {},
   "source": [
    "Do you find it surprising that there were always more than 50% boys?"
   ]
  },
  {
   "cell_type": "code",
   "execution_count": null,
   "metadata": {},
   "outputs": [],
   "source": []
  },
  {
   "cell_type": "markdown",
   "metadata": {},
   "source": [
    "---\n",
    "---\n",
    "#### This tutorial is released under a Creative Commons Attribution-ShareAlike 3.0 Unported.\n",
    "\n",
    "\n",
    "\n",
    "This tutorial has been adapted from a lab that  was adapted for OpenIntro by Andrew Bray and Mine Çetinkaya-Rundel from a lab written by Mark Hansen of UCLA Statistics.\n",
    "\n",
    "---\n",
    "---"
   ]
  }
 ],
 "metadata": {
  "kernelspec": {
   "display_name": "R",
   "language": "R",
   "name": "ir"
  },
  "language_info": {
   "codemirror_mode": "r",
   "file_extension": ".r",
   "mimetype": "text/x-r-source",
   "name": "R",
   "pygments_lexer": "r",
   "version": "3.5.1"
  }
 },
 "nbformat": 4,
 "nbformat_minor": 2
}
