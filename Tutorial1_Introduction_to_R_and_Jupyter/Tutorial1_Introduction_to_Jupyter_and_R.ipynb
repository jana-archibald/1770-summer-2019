{
 "cells": [
  {
   "cell_type": "markdown",
   "metadata": {
    "slideshow": {
     "slide_type": "slide"
    }
   },
   "source": [
    "# Welcome to Tutorial 1\n",
    "\n",
    "---\n",
    "\n",
    "## Goal: Working with jupyer notebooks on sysygy.\n",
    "\n",
    "---"
   ]
  },
  {
   "cell_type": "markdown",
   "metadata": {
    "slideshow": {
     "slide_type": "slide"
    }
   },
   "source": [
    "### Step 1\n",
    "\n",
    "- Log in to Syzygy\n",
    "\n",
    "https://uleth.syzygy.ca/\n",
    "\n",
    "Use your uleth login credintials.\n",
    "\n",
    "There are tutorials about syzygy  here: \n",
    "http://intro.syzygy.ca/\n",
    "\n",
    "---"
   ]
  },
  {
   "cell_type": "markdown",
   "metadata": {
    "slideshow": {
     "slide_type": "slide"
    }
   },
   "source": [
    "### Step 2\n",
    "\n",
    "### Get a copy of this weeks notebooks\n",
    "\n",
    "We will be using R notebooks for all (or most) of our tutorials.\n",
    "\n",
    "Use this link to get your copy of this notebook:\n",
    "\n",
    "\n",
    "Alternatly you can download the notebook from moodle and upload it to syzygy.\n",
    "\n",
    "---"
   ]
  },
  {
   "cell_type": "markdown",
   "metadata": {
    "slideshow": {
     "slide_type": "slide"
    }
   },
   "source": [
    "### Step 3\n",
    "### File management\n",
    "\n",
    "- Create jupyter notebook\n",
    "- download a jupyer notebook\n",
    "- Creating Folders\n",
    "- Different save options\n",
    "\n",
    "---"
   ]
  },
  {
   "cell_type": "markdown",
   "metadata": {
    "slideshow": {
     "slide_type": "slide"
    }
   },
   "source": [
    "### Step 4\n",
    "### Anatomy of an R notebook\n",
    "\n",
    "---"
   ]
  },
  {
   "cell_type": "markdown",
   "metadata": {
    "slideshow": {
     "slide_type": "slide"
    }
   },
   "source": [
    "\n",
    "# Markdown Cells\n",
    "This is a markdown cell, it is where you write about your work, answer questions...  \n",
    "\n",
    "You can edit this by double clicking, or pressing enter.  You can make it look nice again by pressing \n",
    "shift + enter\n",
    "\n",
    "---"
   ]
  },
  {
   "cell_type": "markdown",
   "metadata": {
    "slideshow": {
     "slide_type": "slide"
    }
   },
   "source": [
    "Try this out by answering the following questions:\n",
    "\n",
    "1- What is your name\n",
    "\n",
    "2- What is your major\n",
    "\n",
    "3- Why are you taking stat 1770?\n",
    "\n",
    "\n",
    "**You can use various methods to make your text look nice, but plain text is fine. **\n",
    "\n",
    "---"
   ]
  },
  {
   "cell_type": "markdown",
   "metadata": {
    "slideshow": {
     "slide_type": "slide"
    }
   },
   "source": [
    "# Code Cells\n",
    "\n",
    "Below are three code cells.  \n",
    "\n",
    "Code cells are where we will use R to compute statistics or produce plots.  Or as I have done here do some simple arithmetic.\n",
    "\n",
    "- You can double click on a code cell to edit it.\n",
    "- shift + enter will run the code."
   ]
  },
  {
   "cell_type": "code",
   "execution_count": 1,
   "metadata": {
    "slideshow": {
     "slide_type": "subslide"
    }
   },
   "outputs": [
    {
     "data": {
      "text/html": [
       "9"
      ],
      "text/latex": [
       "9"
      ],
      "text/markdown": [
       "9"
      ],
      "text/plain": [
       "[1] 9"
      ]
     },
     "metadata": {},
     "output_type": "display_data"
    }
   ],
   "source": [
    "4+5"
   ]
  },
  {
   "cell_type": "code",
   "execution_count": 2,
   "metadata": {
    "slideshow": {
     "slide_type": "fragment"
    }
   },
   "outputs": [
    {
     "data": {
      "text/html": [
       "6"
      ],
      "text/latex": [
       "6"
      ],
      "text/markdown": [
       "6"
      ],
      "text/plain": [
       "[1] 6"
      ]
     },
     "metadata": {},
     "output_type": "display_data"
    }
   ],
   "source": [
    "2*3"
   ]
  },
  {
   "cell_type": "code",
   "execution_count": 3,
   "metadata": {
    "scrolled": true,
    "slideshow": {
     "slide_type": "fragment"
    }
   },
   "outputs": [
    {
     "data": {
      "text/html": [
       "3"
      ],
      "text/latex": [
       "3"
      ],
      "text/markdown": [
       "3"
      ],
      "text/plain": [
       "[1] 3"
      ]
     },
     "metadata": {},
     "output_type": "display_data"
    }
   ],
   "source": [
    "15/5"
   ]
  },
  {
   "cell_type": "markdown",
   "metadata": {
    "slideshow": {
     "slide_type": "slide"
    }
   },
   "source": [
    "## Basic Statistics\n",
    "\n",
    "### Mean\n",
    "\n",
    "Find the **average**  of the following numbers:\n",
    "\n",
    "1, 3, 6, 10, 15, 20\n",
    "\n",
    "\n",
    "\n"
   ]
  },
  {
   "cell_type": "code",
   "execution_count": null,
   "metadata": {
    "collapsed": true,
    "slideshow": {
     "slide_type": "subslide"
    }
   },
   "outputs": [],
   "source": []
  },
  {
   "cell_type": "code",
   "execution_count": null,
   "metadata": {
    "collapsed": true,
    "slideshow": {
     "slide_type": "fragment"
    }
   },
   "outputs": [],
   "source": []
  },
  {
   "cell_type": "code",
   "execution_count": null,
   "metadata": {
    "collapsed": true
   },
   "outputs": [],
   "source": []
  },
  {
   "cell_type": "markdown",
   "metadata": {
    "slideshow": {
     "slide_type": "slide"
    }
   },
   "source": [
    "Since R is a statistical language, we should expect that it knows how to compute the average.  \n",
    "\n",
    "\n",
    "---\n",
    "\n",
    "To do this we can use the `mean()` command.  We will discuss in our next class why statiticians use this word.\n"
   ]
  },
  {
   "cell_type": "code",
   "execution_count": 4,
   "metadata": {
    "slideshow": {
     "slide_type": "subslide"
    }
   },
   "outputs": [
    {
     "data": {
      "text/html": [
       "9.16666666666667"
      ],
      "text/latex": [
       "9.16666666666667"
      ],
      "text/markdown": [
       "9.16666666666667"
      ],
      "text/plain": [
       "[1] 9.166667"
      ]
     },
     "metadata": {},
     "output_type": "display_data"
    }
   ],
   "source": [
    "mean(c(1,3,6,10,15,20))"
   ]
  },
  {
   "cell_type": "code",
   "execution_count": null,
   "metadata": {
    "slideshow": {
     "slide_type": "fragment"
    }
   },
   "outputs": [],
   "source": []
  },
  {
   "cell_type": "markdown",
   "metadata": {
    "slideshow": {
     "slide_type": "fragment"
    }
   },
   "source": [
    "---\n",
    "Why do we need that c??\n",
    "\n",
    "---"
   ]
  },
  {
   "cell_type": "markdown",
   "metadata": {
    "slideshow": {
     "slide_type": "slide"
    }
   },
   "source": [
    "# Loading and Working with Data\n",
    "\n",
    "We will now load some data so that we can try out some of the R abilities.\n",
    "\n",
    "We need to load some actuall data.  \n",
    "\n",
    "We will be use some christenings from John Arbuthnot (1710).\n",
    "\n",
    "Please run the code below."
   ]
  },
  {
   "cell_type": "code",
   "execution_count": 1,
   "metadata": {
    "collapsed": true,
    "slideshow": {
     "slide_type": "subslide"
    }
   },
   "outputs": [],
   "source": [
    "source(\"http://www.openintro.org/stat/data/arbuthnot.R\")"
   ]
  },
  {
   "cell_type": "markdown",
   "metadata": {
    "slideshow": {
     "slide_type": "slide"
    }
   },
   "source": [
    "We have now loaded a table called `arbuthnot` which contains the number of christenings for boys and girls from 1629 to 1710. "
   ]
  },
  {
   "cell_type": "markdown",
   "metadata": {
    "slideshow": {
     "slide_type": "subslide"
    }
   },
   "source": [
    "If you want to *see* an object that you have saved in **R** you can type its name."
   ]
  },
  {
   "cell_type": "code",
   "execution_count": 2,
   "metadata": {
    "slideshow": {
     "slide_type": "fragment"
    }
   },
   "outputs": [
    {
     "data": {
      "text/html": [
       "<table>\n",
       "<thead><tr><th></th><th scope=col>year</th><th scope=col>boys</th><th scope=col>girls</th></tr></thead>\n",
       "<tbody>\n",
       "\t<tr><th scope=row>1</th><td>1629</td><td>5218</td><td>4683</td></tr>\n",
       "\t<tr><th scope=row>2</th><td>1630</td><td>4858</td><td>4457</td></tr>\n",
       "\t<tr><th scope=row>3</th><td>1631</td><td>4422</td><td>4102</td></tr>\n",
       "\t<tr><th scope=row>4</th><td>1632</td><td>4994</td><td>4590</td></tr>\n",
       "\t<tr><th scope=row>5</th><td>1633</td><td>5158</td><td>4839</td></tr>\n",
       "\t<tr><th scope=row>6</th><td>1634</td><td>5035</td><td>4820</td></tr>\n",
       "\t<tr><th scope=row>7</th><td>1635</td><td>5106</td><td>4928</td></tr>\n",
       "\t<tr><th scope=row>8</th><td>1636</td><td>4917</td><td>4605</td></tr>\n",
       "\t<tr><th scope=row>9</th><td>1637</td><td>4703</td><td>4457</td></tr>\n",
       "\t<tr><th scope=row>10</th><td>1638</td><td>5359</td><td>4952</td></tr>\n",
       "\t<tr><th scope=row>11</th><td>1639</td><td>5366</td><td>4784</td></tr>\n",
       "\t<tr><th scope=row>12</th><td>1640</td><td>5518</td><td>5332</td></tr>\n",
       "\t<tr><th scope=row>13</th><td>1641</td><td>5470</td><td>5200</td></tr>\n",
       "\t<tr><th scope=row>14</th><td>1642</td><td>5460</td><td>4910</td></tr>\n",
       "\t<tr><th scope=row>15</th><td>1643</td><td>4793</td><td>4617</td></tr>\n",
       "\t<tr><th scope=row>16</th><td>1644</td><td>4107</td><td>3997</td></tr>\n",
       "\t<tr><th scope=row>17</th><td>1645</td><td>4047</td><td>3919</td></tr>\n",
       "\t<tr><th scope=row>18</th><td>1646</td><td>3768</td><td>3395</td></tr>\n",
       "\t<tr><th scope=row>19</th><td>1647</td><td>3796</td><td>3536</td></tr>\n",
       "\t<tr><th scope=row>20</th><td>1648</td><td>3363</td><td>3181</td></tr>\n",
       "\t<tr><th scope=row>21</th><td>1649</td><td>3079</td><td>2746</td></tr>\n",
       "\t<tr><th scope=row>22</th><td>1650</td><td>2890</td><td>2722</td></tr>\n",
       "\t<tr><th scope=row>23</th><td>1651</td><td>3231</td><td>2840</td></tr>\n",
       "\t<tr><th scope=row>24</th><td>1652</td><td>3220</td><td>2908</td></tr>\n",
       "\t<tr><th scope=row>25</th><td>1653</td><td>3196</td><td>2959</td></tr>\n",
       "\t<tr><th scope=row>26</th><td>1654</td><td>3441</td><td>3179</td></tr>\n",
       "\t<tr><th scope=row>27</th><td>1655</td><td>3655</td><td>3349</td></tr>\n",
       "\t<tr><th scope=row>28</th><td>1656</td><td>3668</td><td>3382</td></tr>\n",
       "\t<tr><th scope=row>29</th><td>1657</td><td>3396</td><td>3289</td></tr>\n",
       "\t<tr><th scope=row>30</th><td>1658</td><td>3157</td><td>3013</td></tr>\n",
       "\t<tr><th scope=row>⋮</th><td>⋮</td><td>⋮</td><td>⋮</td></tr>\n",
       "\t<tr><th scope=row>53</th><td>1681</td><td>6822</td><td>6533</td></tr>\n",
       "\t<tr><th scope=row>54</th><td>1682</td><td>6909</td><td>6744</td></tr>\n",
       "\t<tr><th scope=row>55</th><td>1683</td><td>7577</td><td>7158</td></tr>\n",
       "\t<tr><th scope=row>56</th><td>1684</td><td>7575</td><td>7127</td></tr>\n",
       "\t<tr><th scope=row>57</th><td>1685</td><td>7484</td><td>7246</td></tr>\n",
       "\t<tr><th scope=row>58</th><td>1686</td><td>7575</td><td>7119</td></tr>\n",
       "\t<tr><th scope=row>59</th><td>1687</td><td>7737</td><td>7214</td></tr>\n",
       "\t<tr><th scope=row>60</th><td>1688</td><td>7487</td><td>7101</td></tr>\n",
       "\t<tr><th scope=row>61</th><td>1689</td><td>7604</td><td>7167</td></tr>\n",
       "\t<tr><th scope=row>62</th><td>1690</td><td>7909</td><td>7302</td></tr>\n",
       "\t<tr><th scope=row>63</th><td>1691</td><td>7662</td><td>7392</td></tr>\n",
       "\t<tr><th scope=row>64</th><td>1692</td><td>7602</td><td>7316</td></tr>\n",
       "\t<tr><th scope=row>65</th><td>1693</td><td>7676</td><td>7483</td></tr>\n",
       "\t<tr><th scope=row>66</th><td>1694</td><td>6985</td><td>6647</td></tr>\n",
       "\t<tr><th scope=row>67</th><td>1695</td><td>7263</td><td>6713</td></tr>\n",
       "\t<tr><th scope=row>68</th><td>1696</td><td>7632</td><td>7229</td></tr>\n",
       "\t<tr><th scope=row>69</th><td>1697</td><td>8062</td><td>7767</td></tr>\n",
       "\t<tr><th scope=row>70</th><td>1698</td><td>8426</td><td>7626</td></tr>\n",
       "\t<tr><th scope=row>71</th><td>1699</td><td>7911</td><td>7452</td></tr>\n",
       "\t<tr><th scope=row>72</th><td>1700</td><td>7578</td><td>7061</td></tr>\n",
       "\t<tr><th scope=row>73</th><td>1701</td><td>8102</td><td>7514</td></tr>\n",
       "\t<tr><th scope=row>74</th><td>1702</td><td>8031</td><td>7656</td></tr>\n",
       "\t<tr><th scope=row>75</th><td>1703</td><td>7765</td><td>7683</td></tr>\n",
       "\t<tr><th scope=row>76</th><td>1704</td><td>6113</td><td>5738</td></tr>\n",
       "\t<tr><th scope=row>77</th><td>1705</td><td>8366</td><td>7779</td></tr>\n",
       "\t<tr><th scope=row>78</th><td>1706</td><td>7952</td><td>7417</td></tr>\n",
       "\t<tr><th scope=row>79</th><td>1707</td><td>8379</td><td>7687</td></tr>\n",
       "\t<tr><th scope=row>80</th><td>1708</td><td>8239</td><td>7623</td></tr>\n",
       "\t<tr><th scope=row>81</th><td>1709</td><td>7840</td><td>7380</td></tr>\n",
       "\t<tr><th scope=row>82</th><td>1710</td><td>7640</td><td>7288</td></tr>\n",
       "</tbody>\n",
       "</table>\n"
      ],
      "text/latex": [
       "\\begin{tabular}{r|lll}\n",
       "  & year & boys & girls\\\\\n",
       "\\hline\n",
       "\t1 & 1629 & 5218 & 4683\\\\\n",
       "\t2 & 1630 & 4858 & 4457\\\\\n",
       "\t3 & 1631 & 4422 & 4102\\\\\n",
       "\t4 & 1632 & 4994 & 4590\\\\\n",
       "\t5 & 1633 & 5158 & 4839\\\\\n",
       "\t6 & 1634 & 5035 & 4820\\\\\n",
       "\t7 & 1635 & 5106 & 4928\\\\\n",
       "\t8 & 1636 & 4917 & 4605\\\\\n",
       "\t9 & 1637 & 4703 & 4457\\\\\n",
       "\t10 & 1638 & 5359 & 4952\\\\\n",
       "\t11 & 1639 & 5366 & 4784\\\\\n",
       "\t12 & 1640 & 5518 & 5332\\\\\n",
       "\t13 & 1641 & 5470 & 5200\\\\\n",
       "\t14 & 1642 & 5460 & 4910\\\\\n",
       "\t15 & 1643 & 4793 & 4617\\\\\n",
       "\t16 & 1644 & 4107 & 3997\\\\\n",
       "\t17 & 1645 & 4047 & 3919\\\\\n",
       "\t18 & 1646 & 3768 & 3395\\\\\n",
       "\t19 & 1647 & 3796 & 3536\\\\\n",
       "\t20 & 1648 & 3363 & 3181\\\\\n",
       "\t21 & 1649 & 3079 & 2746\\\\\n",
       "\t22 & 1650 & 2890 & 2722\\\\\n",
       "\t23 & 1651 & 3231 & 2840\\\\\n",
       "\t24 & 1652 & 3220 & 2908\\\\\n",
       "\t25 & 1653 & 3196 & 2959\\\\\n",
       "\t26 & 1654 & 3441 & 3179\\\\\n",
       "\t27 & 1655 & 3655 & 3349\\\\\n",
       "\t28 & 1656 & 3668 & 3382\\\\\n",
       "\t29 & 1657 & 3396 & 3289\\\\\n",
       "\t30 & 1658 & 3157 & 3013\\\\\n",
       "\t⋮ & ⋮ & ⋮ & ⋮\\\\\n",
       "\t53 & 1681 & 6822 & 6533\\\\\n",
       "\t54 & 1682 & 6909 & 6744\\\\\n",
       "\t55 & 1683 & 7577 & 7158\\\\\n",
       "\t56 & 1684 & 7575 & 7127\\\\\n",
       "\t57 & 1685 & 7484 & 7246\\\\\n",
       "\t58 & 1686 & 7575 & 7119\\\\\n",
       "\t59 & 1687 & 7737 & 7214\\\\\n",
       "\t60 & 1688 & 7487 & 7101\\\\\n",
       "\t61 & 1689 & 7604 & 7167\\\\\n",
       "\t62 & 1690 & 7909 & 7302\\\\\n",
       "\t63 & 1691 & 7662 & 7392\\\\\n",
       "\t64 & 1692 & 7602 & 7316\\\\\n",
       "\t65 & 1693 & 7676 & 7483\\\\\n",
       "\t66 & 1694 & 6985 & 6647\\\\\n",
       "\t67 & 1695 & 7263 & 6713\\\\\n",
       "\t68 & 1696 & 7632 & 7229\\\\\n",
       "\t69 & 1697 & 8062 & 7767\\\\\n",
       "\t70 & 1698 & 8426 & 7626\\\\\n",
       "\t71 & 1699 & 7911 & 7452\\\\\n",
       "\t72 & 1700 & 7578 & 7061\\\\\n",
       "\t73 & 1701 & 8102 & 7514\\\\\n",
       "\t74 & 1702 & 8031 & 7656\\\\\n",
       "\t75 & 1703 & 7765 & 7683\\\\\n",
       "\t76 & 1704 & 6113 & 5738\\\\\n",
       "\t77 & 1705 & 8366 & 7779\\\\\n",
       "\t78 & 1706 & 7952 & 7417\\\\\n",
       "\t79 & 1707 & 8379 & 7687\\\\\n",
       "\t80 & 1708 & 8239 & 7623\\\\\n",
       "\t81 & 1709 & 7840 & 7380\\\\\n",
       "\t82 & 1710 & 7640 & 7288\\\\\n",
       "\\end{tabular}\n"
      ],
      "text/plain": [
       "   year boys girls\n",
       "1  1629 5218  4683\n",
       "2  1630 4858  4457\n",
       "3  1631 4422  4102\n",
       "4  1632 4994  4590\n",
       "5  1633 5158  4839\n",
       "6  1634 5035  4820\n",
       "7  1635 5106  4928\n",
       "8  1636 4917  4605\n",
       "9  1637 4703  4457\n",
       "10 1638 5359  4952\n",
       "11 1639 5366  4784\n",
       "12 1640 5518  5332\n",
       "13 1641 5470  5200\n",
       "14 1642 5460  4910\n",
       "15 1643 4793  4617\n",
       "16 1644 4107  3997\n",
       "17 1645 4047  3919\n",
       "18 1646 3768  3395\n",
       "19 1647 3796  3536\n",
       "20 1648 3363  3181\n",
       "21 1649 3079  2746\n",
       "22 1650 2890  2722\n",
       "23 1651 3231  2840\n",
       "24 1652 3220  2908\n",
       "25 1653 3196  2959\n",
       "26 1654 3441  3179\n",
       "27 1655 3655  3349\n",
       "28 1656 3668  3382\n",
       "29 1657 3396  3289\n",
       "30 1658 3157  3013\n",
       "⋮     ⋮    ⋮     ⋮\n",
       "53 1681 6822  6533\n",
       "54 1682 6909  6744\n",
       "55 1683 7577  7158\n",
       "56 1684 7575  7127\n",
       "57 1685 7484  7246\n",
       "58 1686 7575  7119\n",
       "59 1687 7737  7214\n",
       "60 1688 7487  7101\n",
       "61 1689 7604  7167\n",
       "62 1690 7909  7302\n",
       "63 1691 7662  7392\n",
       "64 1692 7602  7316\n",
       "65 1693 7676  7483\n",
       "66 1694 6985  6647\n",
       "67 1695 7263  6713\n",
       "68 1696 7632  7229\n",
       "69 1697 8062  7767\n",
       "70 1698 8426  7626\n",
       "71 1699 7911  7452\n",
       "72 1700 7578  7061\n",
       "73 1701 8102  7514\n",
       "74 1702 8031  7656\n",
       "75 1703 7765  7683\n",
       "76 1704 6113  5738\n",
       "77 1705 8366  7779\n",
       "78 1706 7952  7417\n",
       "79 1707 8379  7687\n",
       "80 1708 8239  7623\n",
       "81 1709 7840  7380\n",
       "82 1710 7640  7288"
      ]
     },
     "metadata": {},
     "output_type": "display_data"
    }
   ],
   "source": [
    "arbuthnot"
   ]
  },
  {
   "cell_type": "markdown",
   "metadata": {
    "slideshow": {
     "slide_type": "slide"
    }
   },
   "source": [
    "---\n",
    "\n",
    "We now will have a *look* at the data, by using an **R** command `summary()`.  \n",
    "This will give us the standard summary statistics for the table.\n",
    "\n",
    "---"
   ]
  },
  {
   "cell_type": "code",
   "execution_count": 3,
   "metadata": {
    "slideshow": {
     "slide_type": "subslide"
    }
   },
   "outputs": [
    {
     "data": {
      "text/plain": [
       "      year           boys          girls     \n",
       " Min.   :1629   Min.   :2890   Min.   :2722  \n",
       " 1st Qu.:1649   1st Qu.:4759   1st Qu.:4457  \n",
       " Median :1670   Median :6073   Median :5718  \n",
       " Mean   :1670   Mean   :5907   Mean   :5535  \n",
       " 3rd Qu.:1690   3rd Qu.:7576   3rd Qu.:7150  \n",
       " Max.   :1710   Max.   :8426   Max.   :7779  "
      ]
     },
     "metadata": {},
     "output_type": "display_data"
    }
   ],
   "source": [
    "summary(arbuthnot)"
   ]
  },
  {
   "cell_type": "markdown",
   "metadata": {
    "slideshow": {
     "slide_type": "fragment"
    }
   },
   "source": [
    "You can see that **R** has computed summary statistics for the three columns in the table.  \n",
    "\n",
    "We will be discussing all of these value in out next lecture.\n",
    "\n",
    "What can you say about ths number of christinings?"
   ]
  },
  {
   "cell_type": "markdown",
   "metadata": {},
   "source": [
    "You can use `$` to specify a column of numbers.  So  `arbuthnot$boys` selects the column with the boys christinings.  "
   ]
  },
  {
   "cell_type": "code",
   "execution_count": 8,
   "metadata": {},
   "outputs": [
    {
     "data": {
      "text/html": [
       "<ol class=list-inline>\n",
       "\t<li>5218</li>\n",
       "\t<li>4858</li>\n",
       "\t<li>4422</li>\n",
       "\t<li>4994</li>\n",
       "\t<li>5158</li>\n",
       "\t<li>5035</li>\n",
       "\t<li>5106</li>\n",
       "\t<li>4917</li>\n",
       "\t<li>4703</li>\n",
       "\t<li>5359</li>\n",
       "\t<li>5366</li>\n",
       "\t<li>5518</li>\n",
       "\t<li>5470</li>\n",
       "\t<li>5460</li>\n",
       "\t<li>4793</li>\n",
       "\t<li>4107</li>\n",
       "\t<li>4047</li>\n",
       "\t<li>3768</li>\n",
       "\t<li>3796</li>\n",
       "\t<li>3363</li>\n",
       "\t<li>3079</li>\n",
       "\t<li>2890</li>\n",
       "\t<li>3231</li>\n",
       "\t<li>3220</li>\n",
       "\t<li>3196</li>\n",
       "\t<li>3441</li>\n",
       "\t<li>3655</li>\n",
       "\t<li>3668</li>\n",
       "\t<li>3396</li>\n",
       "\t<li>3157</li>\n",
       "\t<li>3209</li>\n",
       "\t<li>3724</li>\n",
       "\t<li>4748</li>\n",
       "\t<li>5216</li>\n",
       "\t<li>5411</li>\n",
       "\t<li>6041</li>\n",
       "\t<li>5114</li>\n",
       "\t<li>4678</li>\n",
       "\t<li>5616</li>\n",
       "\t<li>6073</li>\n",
       "\t<li>6506</li>\n",
       "\t<li>6278</li>\n",
       "\t<li>6449</li>\n",
       "\t<li>6443</li>\n",
       "\t<li>6073</li>\n",
       "\t<li>6113</li>\n",
       "\t<li>6058</li>\n",
       "\t<li>6552</li>\n",
       "\t<li>6423</li>\n",
       "\t<li>6568</li>\n",
       "\t<li>6247</li>\n",
       "\t<li>6548</li>\n",
       "\t<li>6822</li>\n",
       "\t<li>6909</li>\n",
       "\t<li>7577</li>\n",
       "\t<li>7575</li>\n",
       "\t<li>7484</li>\n",
       "\t<li>7575</li>\n",
       "\t<li>7737</li>\n",
       "\t<li>7487</li>\n",
       "\t<li>7604</li>\n",
       "\t<li>7909</li>\n",
       "\t<li>7662</li>\n",
       "\t<li>7602</li>\n",
       "\t<li>7676</li>\n",
       "\t<li>6985</li>\n",
       "\t<li>7263</li>\n",
       "\t<li>7632</li>\n",
       "\t<li>8062</li>\n",
       "\t<li>8426</li>\n",
       "\t<li>7911</li>\n",
       "\t<li>7578</li>\n",
       "\t<li>8102</li>\n",
       "\t<li>8031</li>\n",
       "\t<li>7765</li>\n",
       "\t<li>6113</li>\n",
       "\t<li>8366</li>\n",
       "\t<li>7952</li>\n",
       "\t<li>8379</li>\n",
       "\t<li>8239</li>\n",
       "\t<li>7840</li>\n",
       "\t<li>7640</li>\n",
       "</ol>\n"
      ],
      "text/latex": [
       "\\begin{enumerate*}\n",
       "\\item 5218\n",
       "\\item 4858\n",
       "\\item 4422\n",
       "\\item 4994\n",
       "\\item 5158\n",
       "\\item 5035\n",
       "\\item 5106\n",
       "\\item 4917\n",
       "\\item 4703\n",
       "\\item 5359\n",
       "\\item 5366\n",
       "\\item 5518\n",
       "\\item 5470\n",
       "\\item 5460\n",
       "\\item 4793\n",
       "\\item 4107\n",
       "\\item 4047\n",
       "\\item 3768\n",
       "\\item 3796\n",
       "\\item 3363\n",
       "\\item 3079\n",
       "\\item 2890\n",
       "\\item 3231\n",
       "\\item 3220\n",
       "\\item 3196\n",
       "\\item 3441\n",
       "\\item 3655\n",
       "\\item 3668\n",
       "\\item 3396\n",
       "\\item 3157\n",
       "\\item 3209\n",
       "\\item 3724\n",
       "\\item 4748\n",
       "\\item 5216\n",
       "\\item 5411\n",
       "\\item 6041\n",
       "\\item 5114\n",
       "\\item 4678\n",
       "\\item 5616\n",
       "\\item 6073\n",
       "\\item 6506\n",
       "\\item 6278\n",
       "\\item 6449\n",
       "\\item 6443\n",
       "\\item 6073\n",
       "\\item 6113\n",
       "\\item 6058\n",
       "\\item 6552\n",
       "\\item 6423\n",
       "\\item 6568\n",
       "\\item 6247\n",
       "\\item 6548\n",
       "\\item 6822\n",
       "\\item 6909\n",
       "\\item 7577\n",
       "\\item 7575\n",
       "\\item 7484\n",
       "\\item 7575\n",
       "\\item 7737\n",
       "\\item 7487\n",
       "\\item 7604\n",
       "\\item 7909\n",
       "\\item 7662\n",
       "\\item 7602\n",
       "\\item 7676\n",
       "\\item 6985\n",
       "\\item 7263\n",
       "\\item 7632\n",
       "\\item 8062\n",
       "\\item 8426\n",
       "\\item 7911\n",
       "\\item 7578\n",
       "\\item 8102\n",
       "\\item 8031\n",
       "\\item 7765\n",
       "\\item 6113\n",
       "\\item 8366\n",
       "\\item 7952\n",
       "\\item 8379\n",
       "\\item 8239\n",
       "\\item 7840\n",
       "\\item 7640\n",
       "\\end{enumerate*}\n"
      ],
      "text/markdown": [
       "1. 5218\n",
       "2. 4858\n",
       "3. 4422\n",
       "4. 4994\n",
       "5. 5158\n",
       "6. 5035\n",
       "7. 5106\n",
       "8. 4917\n",
       "9. 4703\n",
       "10. 5359\n",
       "11. 5366\n",
       "12. 5518\n",
       "13. 5470\n",
       "14. 5460\n",
       "15. 4793\n",
       "16. 4107\n",
       "17. 4047\n",
       "18. 3768\n",
       "19. 3796\n",
       "20. 3363\n",
       "21. 3079\n",
       "22. 2890\n",
       "23. 3231\n",
       "24. 3220\n",
       "25. 3196\n",
       "26. 3441\n",
       "27. 3655\n",
       "28. 3668\n",
       "29. 3396\n",
       "30. 3157\n",
       "31. 3209\n",
       "32. 3724\n",
       "33. 4748\n",
       "34. 5216\n",
       "35. 5411\n",
       "36. 6041\n",
       "37. 5114\n",
       "38. 4678\n",
       "39. 5616\n",
       "40. 6073\n",
       "41. 6506\n",
       "42. 6278\n",
       "43. 6449\n",
       "44. 6443\n",
       "45. 6073\n",
       "46. 6113\n",
       "47. 6058\n",
       "48. 6552\n",
       "49. 6423\n",
       "50. 6568\n",
       "51. 6247\n",
       "52. 6548\n",
       "53. 6822\n",
       "54. 6909\n",
       "55. 7577\n",
       "56. 7575\n",
       "57. 7484\n",
       "58. 7575\n",
       "59. 7737\n",
       "60. 7487\n",
       "61. 7604\n",
       "62. 7909\n",
       "63. 7662\n",
       "64. 7602\n",
       "65. 7676\n",
       "66. 6985\n",
       "67. 7263\n",
       "68. 7632\n",
       "69. 8062\n",
       "70. 8426\n",
       "71. 7911\n",
       "72. 7578\n",
       "73. 8102\n",
       "74. 8031\n",
       "75. 7765\n",
       "76. 6113\n",
       "77. 8366\n",
       "78. 7952\n",
       "79. 8379\n",
       "80. 8239\n",
       "81. 7840\n",
       "82. 7640\n",
       "\n",
       "\n"
      ],
      "text/plain": [
       " [1] 5218 4858 4422 4994 5158 5035 5106 4917 4703 5359 5366 5518 5470 5460 4793\n",
       "[16] 4107 4047 3768 3796 3363 3079 2890 3231 3220 3196 3441 3655 3668 3396 3157\n",
       "[31] 3209 3724 4748 5216 5411 6041 5114 4678 5616 6073 6506 6278 6449 6443 6073\n",
       "[46] 6113 6058 6552 6423 6568 6247 6548 6822 6909 7577 7575 7484 7575 7737 7487\n",
       "[61] 7604 7909 7662 7602 7676 6985 7263 7632 8062 8426 7911 7578 8102 8031 7765\n",
       "[76] 6113 8366 7952 8379 8239 7840 7640"
      ]
     },
     "metadata": {},
     "output_type": "display_data"
    }
   ],
   "source": [
    "arbuthnot$boys"
   ]
  },
  {
   "cell_type": "code",
   "execution_count": 9,
   "metadata": {},
   "outputs": [
    {
     "data": {
      "text/html": [
       "5907.09756097561"
      ],
      "text/latex": [
       "5907.09756097561"
      ],
      "text/markdown": [
       "5907.09756097561"
      ],
      "text/plain": [
       "[1] 5907.098"
      ]
     },
     "metadata": {},
     "output_type": "display_data"
    }
   ],
   "source": [
    "mean(arbuthnot$boys)"
   ]
  },
  {
   "cell_type": "markdown",
   "metadata": {},
   "source": [
    "How would you select all of the girls?"
   ]
  },
  {
   "cell_type": "code",
   "execution_count": null,
   "metadata": {
    "collapsed": true
   },
   "outputs": [],
   "source": []
  },
  {
   "cell_type": "markdown",
   "metadata": {},
   "source": [
    "R also has many built in ploting options, there are a number that we will use this term.  The most basic is the `plot()` command.  \n",
    "\n",
    "Below I will plot the number of girls christined by year.  "
   ]
  },
  {
   "cell_type": "code",
   "execution_count": 10,
   "metadata": {},
   "outputs": [
    {
     "data": {
      "image/png": "[encoded data removed]",
      "text/plain": [
       "plot without title"
      ]
     },
     "metadata": {},
     "output_type": "display_data"
    }
   ],
   "source": [
    "plot(x = arbuthnot$year, y = arbuthnot$girls)"
   ]
  },
  {
   "cell_type": "code",
   "execution_count": 12,
   "metadata": {},
   "outputs": [
    {
     "data": {
      "image/png": "[encoded data removed]",
      "text/plain": [
       "plot without title"
      ]
     },
     "metadata": {},
     "output_type": "display_data"
    }
   ],
   "source": [
    "plot(x = arbuthnot$year, y = arbuthnot$girls, type = \"l\")"
   ]
  },
  {
   "cell_type": "code",
   "execution_count": 11,
   "metadata": {
    "collapsed": true
   },
   "outputs": [],
   "source": [
    "help(plot)"
   ]
  },
  {
   "cell_type": "code",
   "execution_count": 13,
   "metadata": {},
   "outputs": [
    {
     "data": {
      "image/png": "[encoded data removed]",
      "text/plain": [
       "plot without title"
      ]
     },
     "metadata": {},
     "output_type": "display_data"
    }
   ],
   "source": [
    "plot(x = arbuthnot$year, y = arbuthnot$boys, type = \"l\")"
   ]
  },
  {
   "cell_type": "markdown",
   "metadata": {},
   "source": [
    "You can adjust many features of the plot, but for our purposes the defalut will frequently be sufficient.\n",
    "\n"
   ]
  },
  {
   "cell_type": "markdown",
   "metadata": {
    "collapsed": true
   },
   "source": [
    "You can also do arithmetic with columns of numbers.  I computed the total number of children chrisitened each year."
   ]
  },
  {
   "cell_type": "code",
   "execution_count": 14,
   "metadata": {},
   "outputs": [
    {
     "data": {
      "text/html": [
       "<ol class=list-inline>\n",
       "\t<li>9901</li>\n",
       "\t<li>9315</li>\n",
       "\t<li>8524</li>\n",
       "\t<li>9584</li>\n",
       "\t<li>9997</li>\n",
       "\t<li>9855</li>\n",
       "\t<li>10034</li>\n",
       "\t<li>9522</li>\n",
       "\t<li>9160</li>\n",
       "\t<li>10311</li>\n",
       "\t<li>10150</li>\n",
       "\t<li>10850</li>\n",
       "\t<li>10670</li>\n",
       "\t<li>10370</li>\n",
       "\t<li>9410</li>\n",
       "\t<li>8104</li>\n",
       "\t<li>7966</li>\n",
       "\t<li>7163</li>\n",
       "\t<li>7332</li>\n",
       "\t<li>6544</li>\n",
       "\t<li>5825</li>\n",
       "\t<li>5612</li>\n",
       "\t<li>6071</li>\n",
       "\t<li>6128</li>\n",
       "\t<li>6155</li>\n",
       "\t<li>6620</li>\n",
       "\t<li>7004</li>\n",
       "\t<li>7050</li>\n",
       "\t<li>6685</li>\n",
       "\t<li>6170</li>\n",
       "\t<li>5990</li>\n",
       "\t<li>6971</li>\n",
       "\t<li>8855</li>\n",
       "\t<li>10019</li>\n",
       "\t<li>10292</li>\n",
       "\t<li>11722</li>\n",
       "\t<li>9972</li>\n",
       "\t<li>8997</li>\n",
       "\t<li>10938</li>\n",
       "\t<li>11633</li>\n",
       "\t<li>12335</li>\n",
       "\t<li>11997</li>\n",
       "\t<li>12510</li>\n",
       "\t<li>12563</li>\n",
       "\t<li>11895</li>\n",
       "\t<li>11851</li>\n",
       "\t<li>11775</li>\n",
       "\t<li>12399</li>\n",
       "\t<li>12626</li>\n",
       "\t<li>12601</li>\n",
       "\t<li>12288</li>\n",
       "\t<li>12847</li>\n",
       "\t<li>13355</li>\n",
       "\t<li>13653</li>\n",
       "\t<li>14735</li>\n",
       "\t<li>14702</li>\n",
       "\t<li>14730</li>\n",
       "\t<li>14694</li>\n",
       "\t<li>14951</li>\n",
       "\t<li>14588</li>\n",
       "\t<li>14771</li>\n",
       "\t<li>15211</li>\n",
       "\t<li>15054</li>\n",
       "\t<li>14918</li>\n",
       "\t<li>15159</li>\n",
       "\t<li>13632</li>\n",
       "\t<li>13976</li>\n",
       "\t<li>14861</li>\n",
       "\t<li>15829</li>\n",
       "\t<li>16052</li>\n",
       "\t<li>15363</li>\n",
       "\t<li>14639</li>\n",
       "\t<li>15616</li>\n",
       "\t<li>15687</li>\n",
       "\t<li>15448</li>\n",
       "\t<li>11851</li>\n",
       "\t<li>16145</li>\n",
       "\t<li>15369</li>\n",
       "\t<li>16066</li>\n",
       "\t<li>15862</li>\n",
       "\t<li>15220</li>\n",
       "\t<li>14928</li>\n",
       "</ol>\n"
      ],
      "text/latex": [
       "\\begin{enumerate*}\n",
       "\\item 9901\n",
       "\\item 9315\n",
       "\\item 8524\n",
       "\\item 9584\n",
       "\\item 9997\n",
       "\\item 9855\n",
       "\\item 10034\n",
       "\\item 9522\n",
       "\\item 9160\n",
       "\\item 10311\n",
       "\\item 10150\n",
       "\\item 10850\n",
       "\\item 10670\n",
       "\\item 10370\n",
       "\\item 9410\n",
       "\\item 8104\n",
       "\\item 7966\n",
       "\\item 7163\n",
       "\\item 7332\n",
       "\\item 6544\n",
       "\\item 5825\n",
       "\\item 5612\n",
       "\\item 6071\n",
       "\\item 6128\n",
       "\\item 6155\n",
       "\\item 6620\n",
       "\\item 7004\n",
       "\\item 7050\n",
       "\\item 6685\n",
       "\\item 6170\n",
       "\\item 5990\n",
       "\\item 6971\n",
       "\\item 8855\n",
       "\\item 10019\n",
       "\\item 10292\n",
       "\\item 11722\n",
       "\\item 9972\n",
       "\\item 8997\n",
       "\\item 10938\n",
       "\\item 11633\n",
       "\\item 12335\n",
       "\\item 11997\n",
       "\\item 12510\n",
       "\\item 12563\n",
       "\\item 11895\n",
       "\\item 11851\n",
       "\\item 11775\n",
       "\\item 12399\n",
       "\\item 12626\n",
       "\\item 12601\n",
       "\\item 12288\n",
       "\\item 12847\n",
       "\\item 13355\n",
       "\\item 13653\n",
       "\\item 14735\n",
       "\\item 14702\n",
       "\\item 14730\n",
       "\\item 14694\n",
       "\\item 14951\n",
       "\\item 14588\n",
       "\\item 14771\n",
       "\\item 15211\n",
       "\\item 15054\n",
       "\\item 14918\n",
       "\\item 15159\n",
       "\\item 13632\n",
       "\\item 13976\n",
       "\\item 14861\n",
       "\\item 15829\n",
       "\\item 16052\n",
       "\\item 15363\n",
       "\\item 14639\n",
       "\\item 15616\n",
       "\\item 15687\n",
       "\\item 15448\n",
       "\\item 11851\n",
       "\\item 16145\n",
       "\\item 15369\n",
       "\\item 16066\n",
       "\\item 15862\n",
       "\\item 15220\n",
       "\\item 14928\n",
       "\\end{enumerate*}\n"
      ],
      "text/markdown": [
       "1. 9901\n",
       "2. 9315\n",
       "3. 8524\n",
       "4. 9584\n",
       "5. 9997\n",
       "6. 9855\n",
       "7. 10034\n",
       "8. 9522\n",
       "9. 9160\n",
       "10. 10311\n",
       "11. 10150\n",
       "12. 10850\n",
       "13. 10670\n",
       "14. 10370\n",
       "15. 9410\n",
       "16. 8104\n",
       "17. 7966\n",
       "18. 7163\n",
       "19. 7332\n",
       "20. 6544\n",
       "21. 5825\n",
       "22. 5612\n",
       "23. 6071\n",
       "24. 6128\n",
       "25. 6155\n",
       "26. 6620\n",
       "27. 7004\n",
       "28. 7050\n",
       "29. 6685\n",
       "30. 6170\n",
       "31. 5990\n",
       "32. 6971\n",
       "33. 8855\n",
       "34. 10019\n",
       "35. 10292\n",
       "36. 11722\n",
       "37. 9972\n",
       "38. 8997\n",
       "39. 10938\n",
       "40. 11633\n",
       "41. 12335\n",
       "42. 11997\n",
       "43. 12510\n",
       "44. 12563\n",
       "45. 11895\n",
       "46. 11851\n",
       "47. 11775\n",
       "48. 12399\n",
       "49. 12626\n",
       "50. 12601\n",
       "51. 12288\n",
       "52. 12847\n",
       "53. 13355\n",
       "54. 13653\n",
       "55. 14735\n",
       "56. 14702\n",
       "57. 14730\n",
       "58. 14694\n",
       "59. 14951\n",
       "60. 14588\n",
       "61. 14771\n",
       "62. 15211\n",
       "63. 15054\n",
       "64. 14918\n",
       "65. 15159\n",
       "66. 13632\n",
       "67. 13976\n",
       "68. 14861\n",
       "69. 15829\n",
       "70. 16052\n",
       "71. 15363\n",
       "72. 14639\n",
       "73. 15616\n",
       "74. 15687\n",
       "75. 15448\n",
       "76. 11851\n",
       "77. 16145\n",
       "78. 15369\n",
       "79. 16066\n",
       "80. 15862\n",
       "81. 15220\n",
       "82. 14928\n",
       "\n",
       "\n"
      ],
      "text/plain": [
       " [1]  9901  9315  8524  9584  9997  9855 10034  9522  9160 10311 10150 10850\n",
       "[13] 10670 10370  9410  8104  7966  7163  7332  6544  5825  5612  6071  6128\n",
       "[25]  6155  6620  7004  7050  6685  6170  5990  6971  8855 10019 10292 11722\n",
       "[37]  9972  8997 10938 11633 12335 11997 12510 12563 11895 11851 11775 12399\n",
       "[49] 12626 12601 12288 12847 13355 13653 14735 14702 14730 14694 14951 14588\n",
       "[61] 14771 15211 15054 14918 15159 13632 13976 14861 15829 16052 15363 14639\n",
       "[73] 15616 15687 15448 11851 16145 15369 16066 15862 15220 14928"
      ]
     },
     "metadata": {},
     "output_type": "display_data"
    }
   ],
   "source": [
    "arbuthnot$boys + arbuthnot$girls"
   ]
  },
  {
   "cell_type": "code",
   "execution_count": 16,
   "metadata": {},
   "outputs": [
    {
     "data": {
      "image/png": "[encoded data removed]",
      "text/plain": [
       "plot without title"
      ]
     },
     "metadata": {},
     "output_type": "display_data"
    }
   ],
   "source": [
    "plot(x = arbuthnot$year, y =  arbuthnot$boys, type = \"l\",col=\"blue\")\n",
    "lines(x = arbuthnot$year, y =  arbuthnot$girls, type = \"l\", col=\"green\")"
   ]
  },
  {
   "cell_type": "code",
   "execution_count": null,
   "metadata": {},
   "outputs": [],
   "source": [
    "plot(x = arbuthnot$year, y =  arbuthnot$boys, type = \"p\",col=\"blue\",pch=16)\n",
    "lines(x = arbuthnot$year, y =  arbuthnot$girls, type = \"p\", col=\"pink\",pch=15)"
   ]
  },
  {
   "cell_type": "markdown",
   "metadata": {},
   "source": [
    "I now want to explore the proportion of the children who are boys.  I might expect that approximately 50% of the children would be boys."
   ]
  },
  {
   "cell_type": "code",
   "execution_count": 17,
   "metadata": {},
   "outputs": [
    {
     "data": {
      "text/html": [
       "<ol class=list-inline>\n",
       "\t<li>0.527017472982527</li>\n",
       "\t<li>0.521524422973698</li>\n",
       "\t<li>0.51877053026748</li>\n",
       "\t<li>0.521076794657763</li>\n",
       "\t<li>0.515954786435931</li>\n",
       "\t<li>0.510908168442415</li>\n",
       "\t<li>0.50886984253538</li>\n",
       "\t<li>0.51638311279143</li>\n",
       "\t<li>0.513427947598253</li>\n",
       "\t<li>0.519736204053923</li>\n",
       "\t<li>0.528669950738916</li>\n",
       "\t<li>0.508571428571429</li>\n",
       "\t<li>0.512652296157451</li>\n",
       "\t<li>0.526518804243009</li>\n",
       "\t<li>0.509351753453773</li>\n",
       "\t<li>0.506786771964462</li>\n",
       "\t<li>0.508034145116746</li>\n",
       "\t<li>0.526036576853274</li>\n",
       "\t<li>0.517730496453901</li>\n",
       "\t<li>0.51390586797066</li>\n",
       "\t<li>0.528583690987124</li>\n",
       "\t<li>0.514967925873129</li>\n",
       "\t<li>0.532202273101631</li>\n",
       "\t<li>0.525456919060052</li>\n",
       "\t<li>0.519252640129976</li>\n",
       "\t<li>0.519788519637462</li>\n",
       "\t<li>0.521844660194175</li>\n",
       "\t<li>0.520283687943262</li>\n",
       "\t<li>0.508002991772625</li>\n",
       "\t<li>0.511669367909238</li>\n",
       "\t<li>0.535726210350584</li>\n",
       "\t<li>0.534213168842347</li>\n",
       "\t<li>0.536194240542067</li>\n",
       "\t<li>0.52061083940513</li>\n",
       "\t<li>0.525748153905946</li>\n",
       "\t<li>0.515355741341068</li>\n",
       "\t<li>0.512835940633775</li>\n",
       "\t<li>0.519951094809381</li>\n",
       "\t<li>0.513439385628086</li>\n",
       "\t<li>0.522049342388034</li>\n",
       "\t<li>0.527442237535468</li>\n",
       "\t<li>0.523297491039427</li>\n",
       "\t<li>0.51550759392486</li>\n",
       "\t<li>0.512855209742896</li>\n",
       "\t<li>0.510550651534258</li>\n",
       "\t<li>0.515821449666695</li>\n",
       "\t<li>0.51447983014862</li>\n",
       "\t<li>0.528429712073554</li>\n",
       "\t<li>0.508712181213369</li>\n",
       "\t<li>0.52122847393064</li>\n",
       "\t<li>0.508382161458333</li>\n",
       "\t<li>0.509690978438546</li>\n",
       "\t<li>0.510819917633845</li>\n",
       "\t<li>0.506042627993847</li>\n",
       "\t<li>0.514217848659654</li>\n",
       "\t<li>0.51523602230989</li>\n",
       "\t<li>0.508078750848608</li>\n",
       "\t<li>0.515516537362189</li>\n",
       "\t<li>0.517490468864959</li>\n",
       "\t<li>0.513230052097615</li>\n",
       "\t<li>0.514792498815246</li>\n",
       "\t<li>0.519952665833936</li>\n",
       "\t<li>0.508967716221602</li>\n",
       "\t<li>0.509585735353264</li>\n",
       "\t<li>0.506365855267498</li>\n",
       "\t<li>0.512397300469484</li>\n",
       "\t<li>0.519676588437321</li>\n",
       "\t<li>0.513558979880223</li>\n",
       "\t<li>0.509318339756144</li>\n",
       "\t<li>0.524919013207077</li>\n",
       "\t<li>0.51493848857645</li>\n",
       "\t<li>0.517658309993852</li>\n",
       "\t<li>0.518826844262295</li>\n",
       "\t<li>0.511952572193536</li>\n",
       "\t<li>0.502654065251165</li>\n",
       "\t<li>0.515821449666695</li>\n",
       "\t<li>0.518179002787241</li>\n",
       "\t<li>0.517405166243737</li>\n",
       "\t<li>0.521536163326279</li>\n",
       "\t<li>0.519417475728155</li>\n",
       "\t<li>0.515111695137976</li>\n",
       "\t<li>0.511789924973205</li>\n",
       "</ol>\n"
      ],
      "text/latex": [
       "\\begin{enumerate*}\n",
       "\\item 0.527017472982527\n",
       "\\item 0.521524422973698\n",
       "\\item 0.51877053026748\n",
       "\\item 0.521076794657763\n",
       "\\item 0.515954786435931\n",
       "\\item 0.510908168442415\n",
       "\\item 0.50886984253538\n",
       "\\item 0.51638311279143\n",
       "\\item 0.513427947598253\n",
       "\\item 0.519736204053923\n",
       "\\item 0.528669950738916\n",
       "\\item 0.508571428571429\n",
       "\\item 0.512652296157451\n",
       "\\item 0.526518804243009\n",
       "\\item 0.509351753453773\n",
       "\\item 0.506786771964462\n",
       "\\item 0.508034145116746\n",
       "\\item 0.526036576853274\n",
       "\\item 0.517730496453901\n",
       "\\item 0.51390586797066\n",
       "\\item 0.528583690987124\n",
       "\\item 0.514967925873129\n",
       "\\item 0.532202273101631\n",
       "\\item 0.525456919060052\n",
       "\\item 0.519252640129976\n",
       "\\item 0.519788519637462\n",
       "\\item 0.521844660194175\n",
       "\\item 0.520283687943262\n",
       "\\item 0.508002991772625\n",
       "\\item 0.511669367909238\n",
       "\\item 0.535726210350584\n",
       "\\item 0.534213168842347\n",
       "\\item 0.536194240542067\n",
       "\\item 0.52061083940513\n",
       "\\item 0.525748153905946\n",
       "\\item 0.515355741341068\n",
       "\\item 0.512835940633775\n",
       "\\item 0.519951094809381\n",
       "\\item 0.513439385628086\n",
       "\\item 0.522049342388034\n",
       "\\item 0.527442237535468\n",
       "\\item 0.523297491039427\n",
       "\\item 0.51550759392486\n",
       "\\item 0.512855209742896\n",
       "\\item 0.510550651534258\n",
       "\\item 0.515821449666695\n",
       "\\item 0.51447983014862\n",
       "\\item 0.528429712073554\n",
       "\\item 0.508712181213369\n",
       "\\item 0.52122847393064\n",
       "\\item 0.508382161458333\n",
       "\\item 0.509690978438546\n",
       "\\item 0.510819917633845\n",
       "\\item 0.506042627993847\n",
       "\\item 0.514217848659654\n",
       "\\item 0.51523602230989\n",
       "\\item 0.508078750848608\n",
       "\\item 0.515516537362189\n",
       "\\item 0.517490468864959\n",
       "\\item 0.513230052097615\n",
       "\\item 0.514792498815246\n",
       "\\item 0.519952665833936\n",
       "\\item 0.508967716221602\n",
       "\\item 0.509585735353264\n",
       "\\item 0.506365855267498\n",
       "\\item 0.512397300469484\n",
       "\\item 0.519676588437321\n",
       "\\item 0.513558979880223\n",
       "\\item 0.509318339756144\n",
       "\\item 0.524919013207077\n",
       "\\item 0.51493848857645\n",
       "\\item 0.517658309993852\n",
       "\\item 0.518826844262295\n",
       "\\item 0.511952572193536\n",
       "\\item 0.502654065251165\n",
       "\\item 0.515821449666695\n",
       "\\item 0.518179002787241\n",
       "\\item 0.517405166243737\n",
       "\\item 0.521536163326279\n",
       "\\item 0.519417475728155\n",
       "\\item 0.515111695137976\n",
       "\\item 0.511789924973205\n",
       "\\end{enumerate*}\n"
      ],
      "text/markdown": [
       "1. 0.527017472982527\n",
       "2. 0.521524422973698\n",
       "3. 0.51877053026748\n",
       "4. 0.521076794657763\n",
       "5. 0.515954786435931\n",
       "6. 0.510908168442415\n",
       "7. 0.50886984253538\n",
       "8. 0.51638311279143\n",
       "9. 0.513427947598253\n",
       "10. 0.519736204053923\n",
       "11. 0.528669950738916\n",
       "12. 0.508571428571429\n",
       "13. 0.512652296157451\n",
       "14. 0.526518804243009\n",
       "15. 0.509351753453773\n",
       "16. 0.506786771964462\n",
       "17. 0.508034145116746\n",
       "18. 0.526036576853274\n",
       "19. 0.517730496453901\n",
       "20. 0.51390586797066\n",
       "21. 0.528583690987124\n",
       "22. 0.514967925873129\n",
       "23. 0.532202273101631\n",
       "24. 0.525456919060052\n",
       "25. 0.519252640129976\n",
       "26. 0.519788519637462\n",
       "27. 0.521844660194175\n",
       "28. 0.520283687943262\n",
       "29. 0.508002991772625\n",
       "30. 0.511669367909238\n",
       "31. 0.535726210350584\n",
       "32. 0.534213168842347\n",
       "33. 0.536194240542067\n",
       "34. 0.52061083940513\n",
       "35. 0.525748153905946\n",
       "36. 0.515355741341068\n",
       "37. 0.512835940633775\n",
       "38. 0.519951094809381\n",
       "39. 0.513439385628086\n",
       "40. 0.522049342388034\n",
       "41. 0.527442237535468\n",
       "42. 0.523297491039427\n",
       "43. 0.51550759392486\n",
       "44. 0.512855209742896\n",
       "45. 0.510550651534258\n",
       "46. 0.515821449666695\n",
       "47. 0.51447983014862\n",
       "48. 0.528429712073554\n",
       "49. 0.508712181213369\n",
       "50. 0.52122847393064\n",
       "51. 0.508382161458333\n",
       "52. 0.509690978438546\n",
       "53. 0.510819917633845\n",
       "54. 0.506042627993847\n",
       "55. 0.514217848659654\n",
       "56. 0.51523602230989\n",
       "57. 0.508078750848608\n",
       "58. 0.515516537362189\n",
       "59. 0.517490468864959\n",
       "60. 0.513230052097615\n",
       "61. 0.514792498815246\n",
       "62. 0.519952665833936\n",
       "63. 0.508967716221602\n",
       "64. 0.509585735353264\n",
       "65. 0.506365855267498\n",
       "66. 0.512397300469484\n",
       "67. 0.519676588437321\n",
       "68. 0.513558979880223\n",
       "69. 0.509318339756144\n",
       "70. 0.524919013207077\n",
       "71. 0.51493848857645\n",
       "72. 0.517658309993852\n",
       "73. 0.518826844262295\n",
       "74. 0.511952572193536\n",
       "75. 0.502654065251165\n",
       "76. 0.515821449666695\n",
       "77. 0.518179002787241\n",
       "78. 0.517405166243737\n",
       "79. 0.521536163326279\n",
       "80. 0.519417475728155\n",
       "81. 0.515111695137976\n",
       "82. 0.511789924973205\n",
       "\n",
       "\n"
      ],
      "text/plain": [
       " [1] 0.5270175 0.5215244 0.5187705 0.5210768 0.5159548 0.5109082 0.5088698\n",
       " [8] 0.5163831 0.5134279 0.5197362 0.5286700 0.5085714 0.5126523 0.5265188\n",
       "[15] 0.5093518 0.5067868 0.5080341 0.5260366 0.5177305 0.5139059 0.5285837\n",
       "[22] 0.5149679 0.5322023 0.5254569 0.5192526 0.5197885 0.5218447 0.5202837\n",
       "[29] 0.5080030 0.5116694 0.5357262 0.5342132 0.5361942 0.5206108 0.5257482\n",
       "[36] 0.5153557 0.5128359 0.5199511 0.5134394 0.5220493 0.5274422 0.5232975\n",
       "[43] 0.5155076 0.5128552 0.5105507 0.5158214 0.5144798 0.5284297 0.5087122\n",
       "[50] 0.5212285 0.5083822 0.5096910 0.5108199 0.5060426 0.5142178 0.5152360\n",
       "[57] 0.5080788 0.5155165 0.5174905 0.5132301 0.5147925 0.5199527 0.5089677\n",
       "[64] 0.5095857 0.5063659 0.5123973 0.5196766 0.5135590 0.5093183 0.5249190\n",
       "[71] 0.5149385 0.5176583 0.5188268 0.5119526 0.5026541 0.5158214 0.5181790\n",
       "[78] 0.5174052 0.5215362 0.5194175 0.5151117 0.5117899"
      ]
     },
     "metadata": {},
     "output_type": "display_data"
    }
   ],
   "source": [
    "arbuthnot$boys / (arbuthnot$boys + arbuthnot$girls)"
   ]
  },
  {
   "cell_type": "code",
   "execution_count": 18,
   "metadata": {},
   "outputs": [
    {
     "data": {
      "image/png": "[encoded data removed]",
      "text/plain": [
       "plot without title"
      ]
     },
     "metadata": {},
     "output_type": "display_data"
    }
   ],
   "source": [
    "plot(x=arbuthnot$year, y=arbuthnot$boys / (arbuthnot$boys + arbuthnot$girls))"
   ]
  },
  {
   "cell_type": "code",
   "execution_count": null,
   "metadata": {},
   "outputs": [],
   "source": [
    "plot(x=arbuthnot$year, y=arbuthnot$boys / (arbuthnot$boys + arbuthnot$girls), type=\"l\")"
   ]
  },
  {
   "cell_type": "markdown",
   "metadata": {},
   "source": [
    "Do you find it surprising that there were always more than 50% boys?"
   ]
  },
  {
   "cell_type": "code",
   "execution_count": null,
   "metadata": {
    "collapsed": true
   },
   "outputs": [],
   "source": []
  }
 ],
 "metadata": {
  "kernelspec": {
   "display_name": "R",
   "language": "R",
   "name": "ir"
  },
  "language_info": {
   "codemirror_mode": "r",
   "file_extension": ".r",
   "mimetype": "text/x-r-source",
   "name": "R",
   "pygments_lexer": "r",
   "version": "3.5.1"
  }
 },
 "nbformat": 4,
 "nbformat_minor": 2
}
