{
 "cells": [
  {
   "cell_type": "markdown",
   "metadata": {},
   "source": [
    "# Binomial Distributions\n",
    "\n",
    "\n",
    "Today we will be working with the binomial distribution.  These are the distributions you encounter everytime you do a survey with categorical data.\n",
    "\n",
    "We will be using some of the built in probability tools in R.\n",
    "\n"
   ]
  },
  {
   "cell_type": "markdown",
   "metadata": {},
   "source": [
    "# dbinom(x,n,p)\n",
    "\n",
    "This function compute the probability density function. That is the probabilty of **x** successes, in n trials, with probability p.\n",
    "\n",
    "---\n",
    "\n",
    "What is the probability of flipping a coin 8 times, and getting heads 5 times?"
   ]
  },
  {
   "cell_type": "code",
   "execution_count": null,
   "metadata": {},
   "outputs": [],
   "source": [
    "dbinom(5,8,0.5)"
   ]
  },
  {
   "cell_type": "markdown",
   "metadata": {},
   "source": [
    "---\n",
    "Now I want to look at the probabilty distribution looks like when I flip a coin 8 times.  \n",
    "\n",
    "I know all of the possible outcomes for how many heads I get.\n",
    "\n",
    "0, 1, 2, 3, 4, 5, 6, 7, 8\n",
    "\n",
    "I can input that in **R** as `c(0:8)`\n",
    "\n"
   ]
  },
  {
   "cell_type": "code",
   "execution_count": null,
   "metadata": {},
   "outputs": [],
   "source": [
    "c(0:8)"
   ]
  },
  {
   "cell_type": "code",
   "execution_count": null,
   "metadata": {},
   "outputs": [],
   "source": [
    "outcomes<-c(0:8)"
   ]
  },
  {
   "cell_type": "markdown",
   "metadata": {},
   "source": [
    "Now I want to compute all of the probabilities."
   ]
  },
  {
   "cell_type": "code",
   "execution_count": null,
   "metadata": {},
   "outputs": [],
   "source": [
    "dbinom(outcomes,8,0.5)"
   ]
  },
  {
   "cell_type": "markdown",
   "metadata": {},
   "source": [
    "I want to plot the distribution.  I will use a barplot."
   ]
  },
  {
   "cell_type": "code",
   "execution_count": null,
   "metadata": {},
   "outputs": [],
   "source": [
    "barplot(dbinom(outcomes,8,0.5),names.arg=outcomes)"
   ]
  },
  {
   "cell_type": "markdown",
   "metadata": {},
   "source": [
    "I can use this plot to estimate various probabilities.\n",
    "\n",
    "1. What is the probability that I get more than 6 heads?\n",
    "4. What is the probability that I get less than 3 heads?\n",
    "3. What is the probability that I get at least 2 heads? \n",
    "2. What is the probability that I get between 3 and 5 heads?  \n",
    " \n",
    "\n",
    "---\n",
    "\n",
    "---\n",
    "\n",
    "---\n",
    "\n",
    "When you need to sum the probabilities for lots of possible outcomes you may want to use the function:\n",
    "\n",
    "## pbinom(x, n, p)\n",
    "\n",
    "This give the cumulative probability.  That is the probability of getting a outcome less than x.  Try this to solve questions 2, 3 and 4."
   ]
  },
  {
   "cell_type": "code",
   "execution_count": null,
   "metadata": {
    "scrolled": true
   },
   "outputs": [],
   "source": [
    "pbinom(c(0:8),8,0.5)"
   ]
  },
  {
   "cell_type": "code",
   "execution_count": null,
   "metadata": {
    "scrolled": false
   },
   "outputs": [],
   "source": [
    "barplot(pbinom(c(0:8),8,0.5),names.arg=c(0:8))"
   ]
  },
  {
   "cell_type": "code",
   "execution_count": null,
   "metadata": {},
   "outputs": [],
   "source": [
    "par(mfrow=c(2,1))\n",
    "barplot(dbinom(outcomes,8,0.5),names.arg=outcomes,ylim=c(0,1))\n",
    "barplot(pbinom(c(0:8),8,0.5),names.arg=c(0:8))"
   ]
  },
  {
   "cell_type": "markdown",
   "metadata": {},
   "source": [
    "## rbinom(1,n,p)\n",
    "\n",
    "This function simulates a binomial experiment with n trials and probability of success p.\n",
    "\n",
    "Below I simulate flipping a coin 10 times.  Try running the code a few times."
   ]
  },
  {
   "cell_type": "code",
   "execution_count": null,
   "metadata": {},
   "outputs": [],
   "source": [
    "rbinom(1,10,0.5)"
   ]
  },
  {
   "cell_type": "markdown",
   "metadata": {},
   "source": [
    "You can simulate running the experiment many times by changing the first parameter.  \n",
    "\n",
    "### rbinom(10,n,p)  \n",
    "\n",
    "simulates running the experiment 20 times.  \n",
    "\n",
    "You can think that I told 20 students to each flip a coin 10 times and report back with how many heads."
   ]
  },
  {
   "cell_type": "code",
   "execution_count": null,
   "metadata": {},
   "outputs": [],
   "source": [
    "rbinom(20,10,0.5)"
   ]
  },
  {
   "cell_type": "code",
   "execution_count": null,
   "metadata": {},
   "outputs": [],
   "source": []
  }
 ],
 "metadata": {
  "kernelspec": {
   "display_name": "R",
   "language": "R",
   "name": "ir"
  },
  "language_info": {
   "codemirror_mode": "r",
   "file_extension": ".r",
   "mimetype": "text/x-r-source",
   "name": "R",
   "pygments_lexer": "r",
   "version": "3.5.1"
  }
 },
 "nbformat": 4,
 "nbformat_minor": 1
}
