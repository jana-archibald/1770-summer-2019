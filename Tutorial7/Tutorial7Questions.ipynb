{
 "cells": [
  {
   "cell_type": "markdown",
   "metadata": {},
   "source": [
    "# Sampling and Categorical Data\n",
    "\n",
    "Today we are going to run some simulations to investigate what happens when we take a sample with a categorical variable.  We are interested in studying \n",
    "\n",
    "### When we take a sample of size n from this population the number of people with   should follow a binomial distribution with n trials and probability of success p"
   ]
  },
  {
   "cell_type": "markdown",
   "metadata": {},
   "source": [
    "The first thing I need to do is simulate taking a large number of samples all of the same size.  I am going to take 10 000 samples of size 20.\n",
    "\n",
    "I am dividing everything by 20 (the number of participants in my study) so that it is easier to compare results with different studies that may have a different number of participants."
   ]
  },
  {
   "cell_type": "code",
   "execution_count": 2,
   "metadata": {},
   "outputs": [],
   "source": [
    "mysamples20<-rbinom(10000,20,0.2)/20"
   ]
  },
  {
   "cell_type": "markdown",
   "metadata": {},
   "source": [
    "Plot the results of your 10 000 simulations.  Since this is a list of 10 000 numbers a histogram is a good choice to present your data."
   ]
  },
  {
   "cell_type": "code",
   "execution_count": 3,
   "metadata": {},
   "outputs": [
    {
     "data": {
      "image/png": "[encoded data removed]",
      "text/plain": [
       "Plot with title “Histogram of mysamples20”"
      ]
     },
     "metadata": {},
     "output_type": "display_data"
    }
   ],
   "source": [
    "hist(mysamples20,breaks=100,col=\"grey\")"
   ]
  },
  {
   "cell_type": "markdown",
   "metadata": {},
   "source": [
    "### How would you describe this distribution?\n",
    "\n"
   ]
  },
  {
   "cell_type": "markdown",
   "metadata": {},
   "source": [
    "## The size of our study was rather small, what do think would change if we had more participants?\n",
    "\n",
    "\n",
    "\n",
    "### Lets run a simulation again, but this time with 100 participants in each sample.\n"
   ]
  },
  {
   "cell_type": "code",
   "execution_count": null,
   "metadata": {},
   "outputs": [],
   "source": []
  },
  {
   "cell_type": "markdown",
   "metadata": {},
   "source": [
    "### Make another histogram from this simulation.  \n",
    "\n",
    "Compare your histogram to the one you found before, what has changed?  \n",
    "\n",
    "Pay particular attention to the x axis.\n"
   ]
  },
  {
   "cell_type": "code",
   "execution_count": null,
   "metadata": {},
   "outputs": [],
   "source": []
  },
  {
   "cell_type": "code",
   "execution_count": null,
   "metadata": {},
   "outputs": [],
   "source": []
  },
  {
   "cell_type": "code",
   "execution_count": null,
   "metadata": {},
   "outputs": [],
   "source": []
  },
  {
   "cell_type": "markdown",
   "metadata": {},
   "source": [
    "##  Notice that the shape of the histogram is getting close to a normal distribution.\n",
    "\n",
    "Use the formulas from class:\n",
    "\n",
    "$$\\mu_{\\hat{p}}=p$$ $$\\sigma_{\\hat{p}}=\\sqrt{\\frac{(p)(1-p)}{n}}$$\n",
    "\n",
    "to calculate the expected mean and standard deviation of this sampling distribution."
   ]
  },
  {
   "cell_type": "code",
   "execution_count": null,
   "metadata": {},
   "outputs": [],
   "source": []
  },
  {
   "cell_type": "code",
   "execution_count": null,
   "metadata": {},
   "outputs": [],
   "source": []
  },
  {
   "cell_type": "code",
   "execution_count": null,
   "metadata": {},
   "outputs": [],
   "source": []
  },
  {
   "cell_type": "markdown",
   "metadata": {},
   "source": [
    "Find two end points, a and b, that should have 95% of the sample proportions between them.  \n",
    "\n",
    "Hint:  Use qnorm to find the cut points that divide the area under the normal distribution in to region of the sizes that you want."
   ]
  },
  {
   "cell_type": "code",
   "execution_count": null,
   "metadata": {},
   "outputs": [],
   "source": []
  },
  {
   "cell_type": "code",
   "execution_count": null,
   "metadata": {},
   "outputs": [],
   "source": []
  },
  {
   "cell_type": "code",
   "execution_count": null,
   "metadata": {},
   "outputs": [],
   "source": []
  },
  {
   "cell_type": "code",
   "execution_count": null,
   "metadata": {},
   "outputs": [],
   "source": []
  },
  {
   "cell_type": "markdown",
   "metadata": {},
   "source": [
    "Compute how many of your simulated samples fell within that range.\n",
    "\n",
    "Is it close to 95%?"
   ]
  },
  {
   "cell_type": "code",
   "execution_count": null,
   "metadata": {},
   "outputs": [],
   "source": []
  },
  {
   "cell_type": "code",
   "execution_count": null,
   "metadata": {},
   "outputs": [],
   "source": []
  },
  {
   "cell_type": "code",
   "execution_count": null,
   "metadata": {},
   "outputs": [],
   "source": []
  },
  {
   "cell_type": "markdown",
   "metadata": {},
   "source": [
    "### Something to think about.\n",
    "\n",
    "Typically we will not know what the true population parameter $p$ is, so we won't know what the sampling distribution is.  \n",
    "\n",
    "How could we use the sample statistic $\\hat{p}$ from one sample, and our knowledge of sampling distribution to give insight on a range resonable values for the true population parameter $p$.\n",
    "\n",
    "\n",
    "#### If you did an actual study and found 20 successes out of 100 trials:\n",
    "\n",
    "1. What would you estimate the true population parameter was?\n",
    "2. Can you come up with a range of values where you think the true parameter might be?\n",
    "\n",
    "#### This is what we will be discussing on Monday with confidence intervals."
   ]
  },
  {
   "cell_type": "code",
   "execution_count": null,
   "metadata": {},
   "outputs": [],
   "source": []
  }
 ],
 "metadata": {
  "kernelspec": {
   "display_name": "R",
   "language": "R",
   "name": "ir"
  },
  "language_info": {
   "codemirror_mode": "r",
   "file_extension": ".r",
   "mimetype": "text/x-r-source",
   "name": "R",
   "pygments_lexer": "r",
   "version": "3.5.1"
  }
 },
 "nbformat": 4,
 "nbformat_minor": 2
}
