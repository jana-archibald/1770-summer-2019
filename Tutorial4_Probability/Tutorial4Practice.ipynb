{
 "cells": [
  {
   "cell_type": "code",
   "execution_count": 2,
   "metadata": {},
   "outputs": [],
   "source": [
    "source(\"http://www.openintro.org/stat/data/cdc.R\")"
   ]
  },
  {
   "cell_type": "markdown",
   "metadata": {},
   "source": [
    "Once again, we will be working with the 'cdc' data set.\n",
    "\n",
    "---\n",
    "\n",
    "## Renaming entries in a data frame.\n",
    "\n",
    "Sometimes it is nice to change the way information is entered in the data frame.  \n",
    "\n",
    "For instance I may want to change the entries in the 'smoke100' column from 0 and 1 to YesSmoke and NoSmoke, so it is easier to work with the tabled data.\n",
    "\n",
    "I am creating a new column named smoking, which contains the same information as 'smoke100' but has more informative entries."
   ]
  },
  {
   "cell_type": "code",
   "execution_count": 3,
   "metadata": {},
   "outputs": [],
   "source": [
    "cdc$smoke<-factor(cdc$smoke100,\n",
    "                     levels=c(0,1),\n",
    "                    labels=c(\"NoSmoke\",\"YesSmoke\"))"
   ]
  },
  {
   "cell_type": "code",
   "execution_count": 4,
   "metadata": {},
   "outputs": [
    {
     "data": {
      "text/html": [
       "<table>\n",
       "<thead><tr><th scope=col>genhlth</th><th scope=col>exerany</th><th scope=col>hlthplan</th><th scope=col>smoke100</th><th scope=col>height</th><th scope=col>weight</th><th scope=col>wtdesire</th><th scope=col>age</th><th scope=col>gender</th><th scope=col>smoke</th></tr></thead>\n",
       "<tbody>\n",
       "\t<tr><td>good     </td><td>0        </td><td>1        </td><td>0        </td><td>70       </td><td>175      </td><td>175      </td><td>77       </td><td>m        </td><td>NoSmoke  </td></tr>\n",
       "\t<tr><td>good     </td><td>0        </td><td>1        </td><td>1        </td><td>64       </td><td>125      </td><td>115      </td><td>33       </td><td>f        </td><td>YesSmoke </td></tr>\n",
       "\t<tr><td>good     </td><td>1        </td><td>1        </td><td>1        </td><td>60       </td><td>105      </td><td>105      </td><td>49       </td><td>f        </td><td>YesSmoke </td></tr>\n",
       "\t<tr><td>good     </td><td>1        </td><td>1        </td><td>0        </td><td>66       </td><td>132      </td><td>124      </td><td>42       </td><td>f        </td><td>NoSmoke  </td></tr>\n",
       "\t<tr><td>very good</td><td>0        </td><td>1        </td><td>0        </td><td>61       </td><td>150      </td><td>130      </td><td>55       </td><td>f        </td><td>NoSmoke  </td></tr>\n",
       "\t<tr><td>very good</td><td>1        </td><td>1        </td><td>0        </td><td>64       </td><td>114      </td><td>114      </td><td>55       </td><td>f        </td><td>NoSmoke  </td></tr>\n",
       "</tbody>\n",
       "</table>\n"
      ],
      "text/latex": [
       "\\begin{tabular}{r|llllllllll}\n",
       " genhlth & exerany & hlthplan & smoke100 & height & weight & wtdesire & age & gender & smoke\\\\\n",
       "\\hline\n",
       "\t good      & 0         & 1         & 0         & 70        & 175       & 175       & 77        & m         & NoSmoke  \\\\\n",
       "\t good      & 0         & 1         & 1         & 64        & 125       & 115       & 33        & f         & YesSmoke \\\\\n",
       "\t good      & 1         & 1         & 1         & 60        & 105       & 105       & 49        & f         & YesSmoke \\\\\n",
       "\t good      & 1         & 1         & 0         & 66        & 132       & 124       & 42        & f         & NoSmoke  \\\\\n",
       "\t very good & 0         & 1         & 0         & 61        & 150       & 130       & 55        & f         & NoSmoke  \\\\\n",
       "\t very good & 1         & 1         & 0         & 64        & 114       & 114       & 55        & f         & NoSmoke  \\\\\n",
       "\\end{tabular}\n"
      ],
      "text/markdown": [
       "\n",
       "genhlth | exerany | hlthplan | smoke100 | height | weight | wtdesire | age | gender | smoke | \n",
       "|---|---|---|---|---|---|\n",
       "| good      | 0         | 1         | 0         | 70        | 175       | 175       | 77        | m         | NoSmoke   | \n",
       "| good      | 0         | 1         | 1         | 64        | 125       | 115       | 33        | f         | YesSmoke  | \n",
       "| good      | 1         | 1         | 1         | 60        | 105       | 105       | 49        | f         | YesSmoke  | \n",
       "| good      | 1         | 1         | 0         | 66        | 132       | 124       | 42        | f         | NoSmoke   | \n",
       "| very good | 0         | 1         | 0         | 61        | 150       | 130       | 55        | f         | NoSmoke   | \n",
       "| very good | 1         | 1         | 0         | 64        | 114       | 114       | 55        | f         | NoSmoke   | \n",
       "\n",
       "\n"
      ],
      "text/plain": [
       "  genhlth   exerany hlthplan smoke100 height weight wtdesire age gender\n",
       "1 good      0       1        0        70     175    175      77  m     \n",
       "2 good      0       1        1        64     125    115      33  f     \n",
       "3 good      1       1        1        60     105    105      49  f     \n",
       "4 good      1       1        0        66     132    124      42  f     \n",
       "5 very good 0       1        0        61     150    130      55  f     \n",
       "6 very good 1       1        0        64     114    114      55  f     \n",
       "  smoke   \n",
       "1 NoSmoke \n",
       "2 YesSmoke\n",
       "3 YesSmoke\n",
       "4 NoSmoke \n",
       "5 NoSmoke \n",
       "6 NoSmoke "
      ]
     },
     "metadata": {},
     "output_type": "display_data"
    }
   ],
   "source": [
    "head(cdc)"
   ]
  },
  {
   "cell_type": "code",
   "execution_count": 6,
   "metadata": {},
   "outputs": [],
   "source": [
    "cdc$hp<-factor(\n",
    "    cdc$hlthplan,levels=c(0,1),\n",
    "                    labels=c(\"No Health Plan\",\"Health Plan\"))"
   ]
  },
  {
   "cell_type": "code",
   "execution_count": 8,
   "metadata": {},
   "outputs": [
    {
     "data": {
      "text/plain": [
       ", ,  = No Health Plan\n",
       "\n",
       "           \n",
       "               0    1\n",
       "  excellent  118  341\n",
       "  very good  172  555\n",
       "  good       333  521\n",
       "  fair       173  212\n",
       "  poor        55   44\n",
       "\n",
       ", ,  = Health Plan\n",
       "\n",
       "           \n",
       "               0    1\n",
       "  excellent  644 3554\n",
       "  very good 1180 5065\n",
       "  good      1398 3423\n",
       "  fair       684  950\n",
       "  poor       329  249\n"
      ]
     },
     "metadata": {},
     "output_type": "display_data"
    }
   ],
   "source": [
    "table(cdc$genhlth,cdc$exerany,cdc$hp)"
   ]
  },
  {
   "cell_type": "code",
   "execution_count": null,
   "metadata": {},
   "outputs": [],
   "source": []
  }
 ],
 "metadata": {
  "kernelspec": {
   "display_name": "R",
   "language": "R",
   "name": "ir"
  },
  "language_info": {
   "codemirror_mode": "r",
   "file_extension": ".r",
   "mimetype": "text/x-r-source",
   "name": "R",
   "pygments_lexer": "r",
   "version": "3.5.1"
  }
 },
 "nbformat": 4,
 "nbformat_minor": 2
}
