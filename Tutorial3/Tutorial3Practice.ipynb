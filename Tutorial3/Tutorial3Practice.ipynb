{
 "cells": [
  {
   "cell_type": "markdown",
   "metadata": {
    "collapsed": true
   },
   "source": [
    "# Tutorial 3\n",
    "\n",
    "## Visual and Numerical Summaries of Categorical Data\n",
    "\n",
    "Today we will do some more work with the same data is in tutorial 2. \n",
    "\n",
    ">The Behavioral Risk Factor Surveillance System (BRFSS) is an annual telephone survey of 350,000 people in the United States. As its name implies, the BRFSS is designed to identify risk factors in the adult population and report emerging health trends. For example, respondents are asked about their diet and weekly physical activity, their HIV/AIDS status, possible tobacco use, and even their level of healthcare coverage. The BRFSS Web site (http://www.cdc.gov/brfss) contains a complete description of the survey, including the research questions that motivate the study and many interesting results derived from the data.\n",
    "\n",
    ">We will focus on a random sample of **20,000** people from the BRFSS survey conducted in 2000. While there are over **200** variables in this data set, we will work with a small subset.\n",
    "\n",
    "We begin by loading the data set of 20,000 observations into the R workspace.\n",
    "\n"
   ]
  },
  {
   "cell_type": "code",
   "execution_count": null,
   "metadata": {},
   "outputs": [],
   "source": [
    "source(\"http://www.openintro.org/stat/data/cdc.R\")"
   ]
  },
  {
   "cell_type": "markdown",
   "metadata": {},
   "source": [
    "I am going to start by printing the first 6 rows of the data frame, so we can see what we are working with."
   ]
  },
  {
   "cell_type": "code",
   "execution_count": null,
   "metadata": {
    "scrolled": true
   },
   "outputs": [],
   "source": [
    "head(cdc)"
   ]
  },
  {
   "cell_type": "markdown",
   "metadata": {},
   "source": [
    "Today we will be working with the categorical data.  That is the columns `genhlth`, `hlthplan`, `smoke100`, and `gender`."
   ]
  },
  {
   "cell_type": "markdown",
   "metadata": {},
   "source": [
    "## Tables"
   ]
  },
  {
   "cell_type": "code",
   "execution_count": null,
   "metadata": {},
   "outputs": [],
   "source": [
    "table(cdc$gender)"
   ]
  },
  {
   "cell_type": "markdown",
   "metadata": {},
   "source": [
    "The table command summarises categorial variables, the table above gives us a count of how many male and how many female entries there are in our data. \n",
    "\n",
    "I might want to compute the proportion in each category.  We can accomplish this by dividing by 20 000 the number of participants in our data."
   ]
  },
  {
   "cell_type": "code",
   "execution_count": null,
   "metadata": {},
   "outputs": [],
   "source": [
    "table(cdc$gender)/20000"
   ]
  },
  {
   "cell_type": "code",
   "execution_count": null,
   "metadata": {},
   "outputs": [],
   "source": [
    "table(cdc$smoke100)/20000"
   ]
  },
  {
   "cell_type": "code",
   "execution_count": null,
   "metadata": {},
   "outputs": [],
   "source": [
    "table(cdc$genhlth)/20000"
   ]
  },
  {
   "cell_type": "markdown",
   "metadata": {},
   "source": [
    "### Barplot\n",
    "\n",
    "I may aslo want to visually display the data from a categorical data.  One option is a barplot, I can choose to either produce a frequency table or a relative frequency table."
   ]
  },
  {
   "cell_type": "code",
   "execution_count": null,
   "metadata": {},
   "outputs": [],
   "source": [
    "barplot(table(cdc$genhlth),main=\"Frequency of General Health\")"
   ]
  },
  {
   "cell_type": "code",
   "execution_count": null,
   "metadata": {},
   "outputs": [],
   "source": [
    "barplot(table(cdc$genhlth)/20000,main=\"Relative Frequency of  General Health\")"
   ]
  },
  {
   "cell_type": "markdown",
   "metadata": {},
   "source": [
    "## Pairs of Categorical Variables.\n",
    "\n",
    "I can also examine pairs of variables.  I am going to compare gender and smoking by producing a frequency table."
   ]
  },
  {
   "cell_type": "code",
   "execution_count": null,
   "metadata": {},
   "outputs": [],
   "source": [
    "table(cdc$gender,cdc$smoke100)"
   ]
  },
  {
   "cell_type": "markdown",
   "metadata": {},
   "source": [
    "There are now more options if we want to compute relative frequencies."
   ]
  },
  {
   "cell_type": "code",
   "execution_count": null,
   "metadata": {},
   "outputs": [],
   "source": [
    "gensmoke<-table(cdc$smoke100,cdc$gender)"
   ]
  },
  {
   "cell_type": "code",
   "execution_count": null,
   "metadata": {},
   "outputs": [],
   "source": [
    "prop.table(gensmoke,1)"
   ]
  },
  {
   "cell_type": "code",
   "execution_count": null,
   "metadata": {},
   "outputs": [],
   "source": [
    "prop.table(gensmoke,2)"
   ]
  },
  {
   "cell_type": "markdown",
   "metadata": {},
   "source": [
    "The second option in `prop.table` tells R to compute row or column proportions.\n",
    "\n",
    "- 1 splits the proportions by the first variable \"what percentage of smokers are male?\" ,   \n",
    "-- The sum of each row is 1.\n",
    "\n",
    "---  \n",
    "\n",
    "- 2 splits by the second variable \"what percentage of men or women smoke?\".  \n",
    "-- The sum of each column is 1.\n",
    "\n",
    "** Does the data show a relationship between the two variables?**\n",
    "\n",
    "---\n",
    "\n",
    "## Barplots with 2 variables\n",
    "\n",
    "Now we will visually display this data.  First I will produce a few barplots to compare the options."
   ]
  },
  {
   "cell_type": "code",
   "execution_count": null,
   "metadata": {},
   "outputs": [],
   "source": [
    "barplot(gensmoke)"
   ]
  },
  {
   "cell_type": "markdown",
   "metadata": {},
   "source": [
    "I will add a legend, and improve the labels to make this plot more useful."
   ]
  },
  {
   "cell_type": "code",
   "execution_count": null,
   "metadata": {},
   "outputs": [],
   "source": [
    "barplot(gensmoke,legend=c(\"Non Smoker\",\"Smoker\"),names.arg=c(\"Male\",\"Female\"))"
   ]
  },
  {
   "cell_type": "markdown",
   "metadata": {},
   "source": [
    "Another option is to place the bars side by side.  I have used it below."
   ]
  },
  {
   "cell_type": "code",
   "execution_count": null,
   "metadata": {},
   "outputs": [],
   "source": [
    "barplot(gensmoke,beside=TRUE,legend=c(\"Non Smoker\",\"Smoker\"),names.arg=c(\"Male\",\"Female\"))"
   ]
  },
  {
   "cell_type": "markdown",
   "metadata": {},
   "source": [
    "Looking at the bar plots, which do you think best display the data?  \n",
    "\n",
    "Is there evidence of a relationship between smoking and gender?\n",
    "\n",
    "\n",
    "---\n",
    "\n",
    "\n",
    "If I use the generic plot command on the table `gensmoke` it will produce a mosaic plot."
   ]
  },
  {
   "cell_type": "code",
   "execution_count": null,
   "metadata": {},
   "outputs": [],
   "source": [
    "plot(gensmoke)"
   ]
  },
  {
   "cell_type": "markdown",
   "metadata": {},
   "source": [
    "There is also a mosaic plot command, (`mosaic.plot`) which will allow for more flexible options."
   ]
  },
  {
   "cell_type": "code",
   "execution_count": null,
   "metadata": {},
   "outputs": [],
   "source": [
    "mosaicplot(gensmoke,color=TRUE)"
   ]
  },
  {
   "cell_type": "code",
   "execution_count": null,
   "metadata": {},
   "outputs": [],
   "source": [
    "mosaicplot(gensmoke,color=TRUE,main=\"Participants split by Gender and Smoking\",xlab=\"Non-Smokers vs Smokers\")"
   ]
  },
  {
   "cell_type": "markdown",
   "metadata": {},
   "source": [
    "I want to print the plots side by side for comparison."
   ]
  },
  {
   "cell_type": "code",
   "execution_count": null,
   "metadata": {},
   "outputs": [],
   "source": [
    "par(mfrow=c(1,2))\n",
    "\n",
    "mosaicplot(gensmoke,color=TRUE,main=\"Participants split by Gender and Smoking\",xlab=\"Non-Smokers vs Smokers\")\n",
    "\n",
    "\n",
    "barplot(gensmoke,beside=TRUE,legend=c(\"Non Smoker\",\"Smoker\"),names.arg=c(\"Male\",\"Female\"))\n",
    "\n"
   ]
  },
  {
   "cell_type": "code",
   "execution_count": null,
   "metadata": {},
   "outputs": [],
   "source": [
    "par(mfrow=c(1,2))\n",
    "\n",
    "mosaicplot(cdc$genhlth~cdc$exerany,color=TRUE,main=\"Exercise vs General Health\")\n",
    "\n",
    "\n",
    "barplot(table(cdc$exerany,cdc$genhlth),beside=TRUE)"
   ]
  },
  {
   "cell_type": "code",
   "execution_count": null,
   "metadata": {},
   "outputs": [],
   "source": [
    "table(cdc$genhlth,cdc$exerany)"
   ]
  },
  {
   "cell_type": "markdown",
   "metadata": {},
   "source": [
    "# Subsets\n",
    "\n",
    "Sometimes you may want to examine a subset of the data set which matches some critera.  \n",
    "\n",
    "To select a particular row or a few rows you can use the following. "
   ]
  },
  {
   "cell_type": "code",
   "execution_count": null,
   "metadata": {},
   "outputs": [],
   "source": [
    "cdc[4,]"
   ]
  },
  {
   "cell_type": "code",
   "execution_count": null,
   "metadata": {},
   "outputs": [],
   "source": [
    "cdc[2:10,]"
   ]
  },
  {
   "cell_type": "markdown",
   "metadata": {},
   "source": [
    "Or I can use a rule to select a subset of the data."
   ]
  },
  {
   "cell_type": "code",
   "execution_count": null,
   "metadata": {},
   "outputs": [],
   "source": [
    "subset(cdc,cdc$genhlth==\"poor\")"
   ]
  },
  {
   "cell_type": "markdown",
   "metadata": {},
   "source": [
    "You can use & to use multiple conditions"
   ]
  },
  {
   "cell_type": "code",
   "execution_count": null,
   "metadata": {},
   "outputs": [],
   "source": [
    "subset(cdc,cdc$genhlth==\"poor\" & cdc$age<35)"
   ]
  },
  {
   "cell_type": "markdown",
   "metadata": {},
   "source": [
    "The veritcal line | below means or. You can see I selected all of the rows with age 27 or 21."
   ]
  },
  {
   "cell_type": "code",
   "execution_count": null,
   "metadata": {},
   "outputs": [],
   "source": [
    "subset(cdc,cdc$age==\"27\" | cdc$age==\"21\")"
   ]
  },
  {
   "cell_type": "code",
   "execution_count": null,
   "metadata": {},
   "outputs": [],
   "source": []
  }
 ],
 "metadata": {
  "kernelspec": {
   "display_name": "R",
   "language": "R",
   "name": "ir"
  },
  "language_info": {
   "codemirror_mode": "r",
   "file_extension": ".r",
   "mimetype": "text/x-r-source",
   "name": "R",
   "pygments_lexer": "r",
   "version": "3.5.1"
  }
 },
 "nbformat": 4,
 "nbformat_minor": 1
}
